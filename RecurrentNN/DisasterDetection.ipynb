{
 "cells": [
  {
   "cell_type": "code",
   "execution_count": 1,
   "metadata": {
    "id": "sXjCTwZ5FxrA"
   },
   "outputs": [],
   "source": [
    "%tensorflow_version 2.x\n",
    "%matplotlib inline"
   ]
  },
  {
   "cell_type": "code",
   "execution_count": 2,
   "metadata": {
    "id": "hFRS2_Rk4lAR"
   },
   "outputs": [],
   "source": [
    "from keras.preprocessing import sequence\n",
    "from keras.preprocessing.text import Tokenizer\n",
    "from keras.models import Sequential, Model\n",
    "from keras.layers import Embedding, LSTM, Dense, Input, concatenate\n",
    "from tensorflow import test, device\n",
    "from sklearn.model_selection import train_test_split\n",
    "from sklearn.metrics import precision_recall_fscore_support\n",
    "from keras.utils import to_categorical"
   ]
  },
  {
   "cell_type": "code",
   "execution_count": 3,
   "metadata": {
    "id": "keD0Angy5To1"
   },
   "outputs": [],
   "source": [
    "import numpy as np\n",
    "import pandas"
   ]
  },
  {
   "cell_type": "markdown",
   "metadata": {},
   "source": [
    "After doing the two primary exercises for RNNs, I looked for something else to do with them and I found [this](https://www.kaggle.com/c/nlp-getting-started) dataset on kaggle. It's composed of tweets that use language based around disasters and bad things, but some of them are fake, such as when they are sarcastic or exaggerative. Thus this dataset is for classifying whether a tweet is about an actual disaster or not. Each tweet has 3 types of data: a keyword, which is the main disaster associated word in the tweet; the location given; and the body of the tweet."
   ]
  },
  {
   "cell_type": "code",
   "execution_count": 4,
   "metadata": {
    "id": "wzvazhah5fdx"
   },
   "outputs": [],
   "source": [
    "data = pandas.read_csv('train.csv')"
   ]
  },
  {
   "cell_type": "code",
   "execution_count": 5,
   "metadata": {
    "colab": {
     "base_uri": "https://localhost:8080/",
     "height": 204
    },
    "id": "GmAyGM8L56AF",
    "outputId": "ea464cad-231b-4426-e327-58def2a1079c"
   },
   "outputs": [
    {
     "data": {
      "text/html": [
       "<div>\n",
       "<style scoped>\n",
       "    .dataframe tbody tr th:only-of-type {\n",
       "        vertical-align: middle;\n",
       "    }\n",
       "\n",
       "    .dataframe tbody tr th {\n",
       "        vertical-align: top;\n",
       "    }\n",
       "\n",
       "    .dataframe thead th {\n",
       "        text-align: right;\n",
       "    }\n",
       "</style>\n",
       "<table border=\"1\" class=\"dataframe\">\n",
       "  <thead>\n",
       "    <tr style=\"text-align: right;\">\n",
       "      <th></th>\n",
       "      <th>id</th>\n",
       "      <th>keyword</th>\n",
       "      <th>location</th>\n",
       "      <th>text</th>\n",
       "      <th>target</th>\n",
       "    </tr>\n",
       "  </thead>\n",
       "  <tbody>\n",
       "    <tr>\n",
       "      <th>7608</th>\n",
       "      <td>10869</td>\n",
       "      <td>NaN</td>\n",
       "      <td>NaN</td>\n",
       "      <td>Two giant cranes holding a bridge collapse int...</td>\n",
       "      <td>1</td>\n",
       "    </tr>\n",
       "    <tr>\n",
       "      <th>7609</th>\n",
       "      <td>10870</td>\n",
       "      <td>NaN</td>\n",
       "      <td>NaN</td>\n",
       "      <td>@aria_ahrary @TheTawniest The out of control w...</td>\n",
       "      <td>1</td>\n",
       "    </tr>\n",
       "    <tr>\n",
       "      <th>7610</th>\n",
       "      <td>10871</td>\n",
       "      <td>NaN</td>\n",
       "      <td>NaN</td>\n",
       "      <td>M1.94 [01:04 UTC]?5km S of Volcano Hawaii. htt...</td>\n",
       "      <td>1</td>\n",
       "    </tr>\n",
       "    <tr>\n",
       "      <th>7611</th>\n",
       "      <td>10872</td>\n",
       "      <td>NaN</td>\n",
       "      <td>NaN</td>\n",
       "      <td>Police investigating after an e-bike collided ...</td>\n",
       "      <td>1</td>\n",
       "    </tr>\n",
       "    <tr>\n",
       "      <th>7612</th>\n",
       "      <td>10873</td>\n",
       "      <td>NaN</td>\n",
       "      <td>NaN</td>\n",
       "      <td>The Latest: More Homes Razed by Northern Calif...</td>\n",
       "      <td>1</td>\n",
       "    </tr>\n",
       "  </tbody>\n",
       "</table>\n",
       "</div>"
      ],
      "text/plain": [
       "         id keyword  ...                                               text target\n",
       "7608  10869     NaN  ...  Two giant cranes holding a bridge collapse int...      1\n",
       "7609  10870     NaN  ...  @aria_ahrary @TheTawniest The out of control w...      1\n",
       "7610  10871     NaN  ...  M1.94 [01:04 UTC]?5km S of Volcano Hawaii. htt...      1\n",
       "7611  10872     NaN  ...  Police investigating after an e-bike collided ...      1\n",
       "7612  10873     NaN  ...  The Latest: More Homes Razed by Northern Calif...      1\n",
       "\n",
       "[5 rows x 5 columns]"
      ]
     },
     "execution_count": 5,
     "metadata": {
      "tags": []
     },
     "output_type": "execute_result"
    }
   ],
   "source": [
    "data.tail()"
   ]
  },
  {
   "cell_type": "code",
   "execution_count": 91,
   "metadata": {
    "colab": {
     "base_uri": "https://localhost:8080/",
     "height": 359
    },
    "id": "7I4MqGZ5ph7C",
    "outputId": "6b039f1e-c630-4665-a1ec-59545a576cb5"
   },
   "outputs": [
    {
     "data": {
      "text/html": [
       "<div>\n",
       "<style scoped>\n",
       "    .dataframe tbody tr th:only-of-type {\n",
       "        vertical-align: middle;\n",
       "    }\n",
       "\n",
       "    .dataframe tbody tr th {\n",
       "        vertical-align: top;\n",
       "    }\n",
       "\n",
       "    .dataframe thead th {\n",
       "        text-align: right;\n",
       "    }\n",
       "</style>\n",
       "<table border=\"1\" class=\"dataframe\">\n",
       "  <thead>\n",
       "    <tr style=\"text-align: right;\">\n",
       "      <th></th>\n",
       "      <th>id</th>\n",
       "      <th>keyword</th>\n",
       "      <th>location</th>\n",
       "      <th>text</th>\n",
       "      <th>target</th>\n",
       "    </tr>\n",
       "  </thead>\n",
       "  <tbody>\n",
       "    <tr>\n",
       "      <th>2000</th>\n",
       "      <td>2875</td>\n",
       "      <td>damage</td>\n",
       "      <td>Unknown</td>\n",
       "      <td>@BradleyBrad47 the saw is fast af and does gre...</td>\n",
       "      <td>0</td>\n",
       "    </tr>\n",
       "    <tr>\n",
       "      <th>2001</th>\n",
       "      <td>2877</td>\n",
       "      <td>damage</td>\n",
       "      <td>Marysville, MI</td>\n",
       "      <td>Let's say a tree falls on your fence. Do you k...</td>\n",
       "      <td>0</td>\n",
       "    </tr>\n",
       "    <tr>\n",
       "      <th>2002</th>\n",
       "      <td>2878</td>\n",
       "      <td>damage</td>\n",
       "      <td>New Haven, Connecticut</td>\n",
       "      <td>@JoeDawg42 TOR for a TOR situation only. Wind ...</td>\n",
       "      <td>1</td>\n",
       "    </tr>\n",
       "    <tr>\n",
       "      <th>2003</th>\n",
       "      <td>2879</td>\n",
       "      <td>damage</td>\n",
       "      <td></td>\n",
       "      <td>@HfxStanfield @beelieveDC @DiscoveryCntr what ...</td>\n",
       "      <td>1</td>\n",
       "    </tr>\n",
       "    <tr>\n",
       "      <th>2004</th>\n",
       "      <td>2880</td>\n",
       "      <td>damage</td>\n",
       "      <td>Austin | San Diego</td>\n",
       "      <td>@swb1192 if the NDA is written to damage your ...</td>\n",
       "      <td>0</td>\n",
       "    </tr>\n",
       "    <tr>\n",
       "      <th>2005</th>\n",
       "      <td>2881</td>\n",
       "      <td>damage</td>\n",
       "      <td>??? ?? ???????</td>\n",
       "      <td>If Trillion crosses the line a 3rd time he doe...</td>\n",
       "      <td>1</td>\n",
       "    </tr>\n",
       "    <tr>\n",
       "      <th>2006</th>\n",
       "      <td>2882</td>\n",
       "      <td>damage</td>\n",
       "      <td>Pontevedra, Galicia</td>\n",
       "      <td>#NP Metallica - Damage Inc</td>\n",
       "      <td>0</td>\n",
       "    </tr>\n",
       "    <tr>\n",
       "      <th>2007</th>\n",
       "      <td>2883</td>\n",
       "      <td>damage</td>\n",
       "      <td>Somewhere in the Canada</td>\n",
       "      <td>Nine inmates charged with causing damage in Ca...</td>\n",
       "      <td>1</td>\n",
       "    </tr>\n",
       "    <tr>\n",
       "      <th>2008</th>\n",
       "      <td>2884</td>\n",
       "      <td>damage</td>\n",
       "      <td>London/New York</td>\n",
       "      <td>#pt Cross-sectarian protest. Powerful Shia cle...</td>\n",
       "      <td>1</td>\n",
       "    </tr>\n",
       "    <tr>\n",
       "      <th>2009</th>\n",
       "      <td>2885</td>\n",
       "      <td>damage</td>\n",
       "      <td>261 5th Avenue New York, NY</td>\n",
       "      <td>Does homeowners insurance cover water damage? ...</td>\n",
       "      <td>1</td>\n",
       "    </tr>\n",
       "  </tbody>\n",
       "</table>\n",
       "</div>"
      ],
      "text/plain": [
       "        id keyword  ...                                               text target\n",
       "2000  2875  damage  ...  @BradleyBrad47 the saw is fast af and does gre...      0\n",
       "2001  2877  damage  ...  Let's say a tree falls on your fence. Do you k...      0\n",
       "2002  2878  damage  ...  @JoeDawg42 TOR for a TOR situation only. Wind ...      1\n",
       "2003  2879  damage  ...  @HfxStanfield @beelieveDC @DiscoveryCntr what ...      1\n",
       "2004  2880  damage  ...  @swb1192 if the NDA is written to damage your ...      0\n",
       "2005  2881  damage  ...  If Trillion crosses the line a 3rd time he doe...      1\n",
       "2006  2882  damage  ...                         #NP Metallica - Damage Inc      0\n",
       "2007  2883  damage  ...  Nine inmates charged with causing damage in Ca...      1\n",
       "2008  2884  damage  ...  #pt Cross-sectarian protest. Powerful Shia cle...      1\n",
       "2009  2885  damage  ...  Does homeowners insurance cover water damage? ...      1\n",
       "\n",
       "[10 rows x 5 columns]"
      ]
     },
     "execution_count": 91,
     "metadata": {
      "tags": []
     },
     "output_type": "execute_result"
    }
   ],
   "source": [
    "data[2000:2010]"
   ]
  },
  {
   "cell_type": "markdown",
   "metadata": {},
   "source": [
    "As you can see, these tweets are not at all clean, especially the locations which have wildly varying formatting."
   ]
  },
  {
   "cell_type": "code",
   "execution_count": 6,
   "metadata": {
    "id": "Fpv9W72U71qP"
   },
   "outputs": [],
   "source": [
    "data = data.fillna('')"
   ]
  },
  {
   "cell_type": "code",
   "execution_count": 7,
   "metadata": {
    "id": "aE4703S46Arr"
   },
   "outputs": [],
   "source": [
    "data_keyword = data['keyword'].to_numpy()\n",
    "data_location = data['location'].to_numpy()\n",
    "data_text = data['text'].to_numpy()\n",
    "data_y = data['target'].to_numpy()"
   ]
  },
  {
   "cell_type": "code",
   "execution_count": 8,
   "metadata": {
    "colab": {
     "base_uri": "https://localhost:8080/"
    },
    "id": "FliCGR8M7PdQ",
    "outputId": "638a39a1-e5f7-444d-c723-f01f348e2682"
   },
   "outputs": [
    {
     "name": "stdout",
     "output_type": "stream",
     "text": [
      "(7613,) (7613,) (7613,)\n"
     ]
    }
   ],
   "source": [
    "print(data_keyword.shape, data_location.shape, data_text.shape)"
   ]
  },
  {
   "cell_type": "code",
   "execution_count": 9,
   "metadata": {
    "colab": {
     "base_uri": "https://localhost:8080/"
    },
    "id": "wPERjzVq7kyH",
    "outputId": "09cd71af-09bc-4185-b4a6-4d50ed5ed131"
   },
   "outputs": [
    {
     "data": {
      "text/plain": [
       "array(['Our Deeds are the Reason of this #earthquake May ALLAH Forgive us all',\n",
       "       'Forest fire near La Ronge Sask. Canada',\n",
       "       \"All residents asked to 'shelter in place' are being notified by officers. No other evacuation or shelter in place orders are expected\",\n",
       "       ..., '', '', ''], dtype=object)"
      ]
     },
     "execution_count": 9,
     "metadata": {
      "tags": []
     },
     "output_type": "execute_result"
    }
   ],
   "source": [
    "np.concatenate([data_text, data_location, data_keyword])"
   ]
  },
  {
   "cell_type": "code",
   "execution_count": 41,
   "metadata": {
    "id": "b-5deWHfaL-o"
   },
   "outputs": [],
   "source": [
    "tkeyword = Tokenizer()\n",
    "tlocation = Tokenizer()\n",
    "ttext = Tokenizer()\n",
    "tkeyword.fit_on_texts(data_keyword)\n",
    "tlocation.fit_on_texts(data_location)\n",
    "ttext.fit_on_texts(data_text)\n",
    "token_keyword = tkeyword.texts_to_sequences(data_keyword)\n",
    "token_location = tlocation.texts_to_sequences(data_location)\n",
    "token_text = ttext.texts_to_sequences(data_text)"
   ]
  },
  {
   "cell_type": "code",
   "execution_count": 42,
   "metadata": {
    "colab": {
     "base_uri": "https://localhost:8080/"
    },
    "id": "4dJu_Qa279w1",
    "outputId": "51910d7a-9c14-4e61-b841-15a534d21636"
   },
   "outputs": [
    {
     "name": "stdout",
     "output_type": "stream",
     "text": [
      "Longest keyword: 3 Shortest keyword: 0\n",
      "Longest location: 12 Shortest location: 0\n",
      "Longest text: 33 Shortest text: 1\n"
     ]
    }
   ],
   "source": [
    "klengths = [len(keyword) for keyword in token_keyword]\n",
    "print('Longest keyword: {} Shortest keyword: {}'.format(max(klengths), min(klengths)))\n",
    "llengths = [len(location) for location in token_location]\n",
    "print('Longest location: {} Shortest location: {}'.format(max(llengths), min(llengths)))\n",
    "lengths = [len(text) for text in token_text]\n",
    "print('Longest text: {} Shortest text: {}'.format(max(lengths), min(lengths)))"
   ]
  },
  {
   "cell_type": "code",
   "execution_count": 43,
   "metadata": {
    "colab": {
     "base_uri": "https://localhost:8080/",
     "height": 333
    },
    "id": "0dHDF2-s8jQ4",
    "outputId": "5ec14608-3b98-4b30-c766-7db506f653ec"
   },
   "outputs": [
    {
     "data": {
      "text/plain": [
       "(array([ 190.,  411.,  639.,  915., 1221., 1854., 1456.,  726.,  179.,\n",
       "          22.]),\n",
       " array([ 1. ,  4.2,  7.4, 10.6, 13.8, 17. , 20.2, 23.4, 26.6, 29.8, 33. ]),\n",
       " <a list of 10 Patch objects>)"
      ]
     },
     "execution_count": 43,
     "metadata": {
      "tags": []
     },
     "output_type": "execute_result"
    },
    {
     "data": {
      "image/png": "[encoded data removed]",
      "text/plain": [
       "<Figure size 432x288 with 1 Axes>"
      ]
     },
     "metadata": {
      "needs_background": "light",
      "tags": []
     },
     "output_type": "display_data"
    }
   ],
   "source": [
    "import matplotlib\n",
    "matplotlib.pyplot.hist(lengths)"
   ]
  },
  {
   "cell_type": "code",
   "execution_count": 61,
   "metadata": {
    "colab": {
     "base_uri": "https://localhost:8080/"
    },
    "id": "pmb0-ZcI8u5A",
    "outputId": "7bd94026-f313-44e9-f5bd-d4b6c4a6c454"
   },
   "outputs": [
    {
     "name": "stdout",
     "output_type": "stream",
     "text": [
      "1165 keywords out of 7613 are over 1.\n",
      "629 locations out of 7613 are over 3.\n",
      "610 texts out of 7613 are over 24.\n"
     ]
    }
   ],
   "source": [
    "keyword_cutoff = 1\n",
    "location_cutoff = 3\n",
    "text_cutoff = 24\n",
    "print('{} keywords out of {} are over {}.'.format(\n",
    "    sum([1 for klength in klengths if klength > keyword_cutoff]), \n",
    "    len(klengths), \n",
    "    keyword_cutoff))\n",
    "print('{} locations out of {} are over {}.'.format(\n",
    "    sum([1 for llength in llengths if llength > location_cutoff]), \n",
    "    len(llengths), \n",
    "    location_cutoff))\n",
    "print('{} texts out of {} are over {}.'.format(\n",
    "    sum([1 for length in lengths if length > text_cutoff]), \n",
    "    len(lengths), \n",
    "    text_cutoff))"
   ]
  },
  {
   "cell_type": "code",
   "execution_count": 45,
   "metadata": {
    "id": "s_MTErNe88-q"
   },
   "outputs": [],
   "source": [
    "keyword_padded = sequence.pad_sequences(keyword_categorical, maxlen=keyword_cutoff)\n",
    "location_padded = sequence.pad_sequences(token_location, maxlen=location_cutoff)\n",
    "text_padded = sequence.pad_sequences(token_text, maxlen=text_cutoff)"
   ]
  },
  {
   "cell_type": "code",
   "execution_count": 69,
   "metadata": {
    "id": "f9auP5KXf-KF"
   },
   "outputs": [],
   "source": [
    "keyword_categorical = to_categorical(keyword_padded)"
   ]
  },
  {
   "cell_type": "code",
   "execution_count": 46,
   "metadata": {
    "colab": {
     "base_uri": "https://localhost:8080/"
    },
    "id": "AuQwAGcpBI27",
    "outputId": "347f7ad7-d032-452d-d2fe-418a6b55abce"
   },
   "outputs": [
    {
     "data": {
      "text/plain": [
       "array([1, 1, 1, ..., 1, 1, 1])"
      ]
     },
     "execution_count": 46,
     "metadata": {
      "tags": []
     },
     "output_type": "execute_result"
    }
   ],
   "source": [
    "data_y"
   ]
  },
  {
   "cell_type": "code",
   "execution_count": 70,
   "metadata": {
    "id": "j2hg-KoP-EGz"
   },
   "outputs": [],
   "source": [
    "keyword_train, keyword_test, location_train, location_test, text_train, text_test, y_train, y_test = train_test_split(keyword_categorical, location_padded, text_padded, data_y, test_size=0.3, random_state=42)"
   ]
  },
  {
   "cell_type": "code",
   "execution_count": 71,
   "metadata": {
    "colab": {
     "base_uri": "https://localhost:8080/"
    },
    "id": "sz3wD_rfSfFj",
    "outputId": "fcc43c94-bf8c-4a8f-9fe1-2a83f0177510"
   },
   "outputs": [
    {
     "data": {
      "text/plain": [
       "(5329, 239)"
      ]
     },
     "execution_count": 71,
     "metadata": {
      "tags": []
     },
     "output_type": "execute_result"
    }
   ],
   "source": [
    "keyword_train.shape"
   ]
  },
  {
   "cell_type": "markdown",
   "metadata": {},
   "source": [
    "Because of these three completely different types of data, I decided to try making a mixed data ML model for the first time. For this I had to learn keras's functional API. For analyzing the keywords, I decided to go with a straightforward one hot encoding because I reasoned that what we cared about was the presence of the word. It's relations to other words could be analyzed in the body of the tweet. For the locations, I did a super small embedding layer to learn more about the meaning of the locations. I originally hoped to simply do a dense layer on top of the embedding but that led to shape problems so I settled for a basic LSTM. Lastly, for the body of the tweet I did the real RNN with two layers of LSTM on top of a large embedding layer. Then I concatenated them together and did one final dense layer."
   ]
  },
  {
   "cell_type": "code",
   "execution_count": 72,
   "metadata": {
    "id": "YwTvBcn3B-A_"
   },
   "outputs": [],
   "source": [
    "# pyimagesearch.com/2019/02/04/keras-multiple-inputs-and-mixed-data/\n",
    "input_keyword = Input(shape=(239, ))\n",
    "input_location = Input(shape=(3, ))\n",
    "input_text = Input(shape=(24, ))"
   ]
  },
  {
   "cell_type": "code",
   "execution_count": 73,
   "metadata": {
    "id": "9BRJ6hFzCMd1"
   },
   "outputs": [],
   "source": [
    "m_keyword = Dense(1, activation='sigmoid')(input_keyword)\n",
    "m_keyword = Model(inputs=input_keyword, outputs=m_keyword)"
   ]
  },
  {
   "cell_type": "code",
   "execution_count": 74,
   "metadata": {
    "id": "12iNHgKyEJ4M"
   },
   "outputs": [],
   "source": [
    "m_location = Embedding(input_dim=len(tlocation.word_index)+1, output_dim=6, input_length=location_cutoff)(input_location)\n",
    "m_location = LSTM(units=4)(m_location)\n",
    "m_location = Dense(8, activation='tanh')(m_location)\n",
    "m_location = Model(inputs=input_location, outputs=m_location)"
   ]
  },
  {
   "cell_type": "code",
   "execution_count": 75,
   "metadata": {
    "id": "2CSDl-TQPlcc"
   },
   "outputs": [],
   "source": [
    "m_text = Embedding(input_dim=len(ttext.word_index)+1, output_dim=80, input_length=text_cutoff)(input_text)\n",
    "m_text = LSTM(units=24, return_sequences=True)(m_text)\n",
    "m_text = LSTM(units=24)(m_text)\n",
    "m_text = Model(inputs=input_text, outputs=m_text)"
   ]
  },
  {
   "cell_type": "code",
   "execution_count": 76,
   "metadata": {
    "id": "MR-99XxwQjnj"
   },
   "outputs": [],
   "source": [
    "combined = concatenate([m_keyword.output, m_location.output, m_text.output])"
   ]
  },
  {
   "cell_type": "code",
   "execution_count": 77,
   "metadata": {
    "id": "eQXiF383Qyc7"
   },
   "outputs": [],
   "source": [
    "m_final = Dense(20, activation=\"relu\")(combined)\n",
    "m_final = Dense(1, activation=\"sigmoid\")(m_final)\n",
    "m_final = Model(inputs=[m_keyword.input, m_location.input, m_text.input], outputs=m_final)"
   ]
  },
  {
   "cell_type": "markdown",
   "metadata": {},
   "source": [
    "Through my research I also found this cool function that makes a diagram of the model!"
   ]
  },
  {
   "cell_type": "code",
   "execution_count": 78,
   "metadata": {
    "colab": {
     "base_uri": "https://localhost:8080/",
     "height": 632
    },
    "id": "qPY92bXiWW2x",
    "outputId": "9e654339-f5db-4520-d047-18e30b96ba03"
   },
   "outputs": [
    {
     "data": {
      "image/png": "[encoded data removed]",
      "text/plain": [
       "<IPython.core.display.Image object>"
      ]
     },
     "execution_count": 78,
     "metadata": {
      "tags": []
     },
     "output_type": "execute_result"
    }
   ],
   "source": [
    "from keras.utils import plot_model\n",
    "plot_model(m_final, show_shapes=True)"
   ]
  },
  {
   "cell_type": "code",
   "execution_count": 79,
   "metadata": {
    "id": "hDxqrBF8WnkA"
   },
   "outputs": [],
   "source": [
    "m_final.compile(loss='binary_crossentropy', optimizer='adam', metrics=['binary_accuracy'])"
   ]
  },
  {
   "cell_type": "code",
   "execution_count": 80,
   "metadata": {
    "colab": {
     "base_uri": "https://localhost:8080/"
    },
    "id": "BI8FnfX9Wy63",
    "outputId": "a64fd68b-7b1e-4610-ae69-0714dd18d89a"
   },
   "outputs": [
    {
     "name": "stdout",
     "output_type": "stream",
     "text": [
      "Epoch 1\n",
      "84/84 [==============================] - 7s 27ms/step - loss: 0.6432 - binary_accuracy: 0.6275\n"
     ]
    }
   ],
   "source": [
    "# Train using GPU acceleration\n",
    "# (see https://colab.research.google.com/notebooks/gpu.ipynb#scrollTo=Y04m-jvKRDsJ)\n",
    "device_name = test.gpu_device_name()\n",
    "if device_name != '/device:GPU:0':\n",
    "  print(\n",
    "      '\\n\\nThis error most likely means that this notebook is not '\n",
    "      'configured to use a GPU.  Change this in Notebook Settings via the '\n",
    "      'command palette (cmd/ctrl-shift-P) or the Edit menu.\\n\\n')\n",
    "  raise SystemError('GPU device not found')\n",
    "\n",
    "with device('/device:GPU:0'):\n",
    "  print('Epoch 1')\n",
    "  m_final.fit([keyword_train, location_train, text_train], y_train, epochs=1, batch_size=64)"
   ]
  },
  {
   "cell_type": "markdown",
   "metadata": {},
   "source": [
    "Surprisingly, after the first epoch, the model had a much lower accuracy on the training data than on the test data, where it had 80%."
   ]
  },
  {
   "cell_type": "code",
   "execution_count": 82,
   "metadata": {
    "colab": {
     "base_uri": "https://localhost:8080/"
    },
    "id": "TBzNWuS3ftJ2",
    "outputId": "f6f70f29-fb11-4477-cd70-bacef17d910f"
   },
   "outputs": [
    {
     "name": "stdout",
     "output_type": "stream",
     "text": [
      "72/72 [==============================] - 0s 5ms/step - loss: 0.4616 - binary_accuracy: 0.8052\n",
      "after epoch 1\n",
      "loss: 0.4616228938102722 accuracy: 0.8051663637161255\n"
     ]
    }
   ],
   "source": [
    "with device('/device:GPU:0'):\n",
    "  tweet_scores = m_final.evaluate([keyword_test, location_test, text_test], y_test)\n",
    "  print('after epoch 1')\n",
    "  print('loss: {} accuracy: {}'.format(*tweet_scores))"
   ]
  },
  {
   "cell_type": "code",
   "execution_count": 83,
   "metadata": {
    "colab": {
     "base_uri": "https://localhost:8080/"
    },
    "id": "IiD_GCVHg2In",
    "outputId": "5febc0e2-4470-4546-b240-adebf09e2253"
   },
   "outputs": [
    {
     "name": "stdout",
     "output_type": "stream",
     "text": [
      "Epoch 2\n",
      "84/84 [==============================] - 2s 28ms/step - loss: 0.3143 - binary_accuracy: 0.8767\n"
     ]
    }
   ],
   "source": [
    "with device('/device:GPU:0'):\n",
    "  print('Epoch 2')\n",
    "  m_final.fit([keyword_train, location_train, text_train], y_train, epochs=1, batch_size=64)"
   ]
  },
  {
   "cell_type": "markdown",
   "metadata": {},
   "source": [
    "In the second round the training data accuracy jumped significantly, as it did every round after, but the test data accuracy stayed stagnant."
   ]
  },
  {
   "cell_type": "code",
   "execution_count": 84,
   "metadata": {
    "colab": {
     "base_uri": "https://localhost:8080/"
    },
    "id": "zc3KBEC2g_3-",
    "outputId": "f5bcb56c-0f5d-4832-b176-db0091b7071a"
   },
   "outputs": [
    {
     "name": "stdout",
     "output_type": "stream",
     "text": [
      "72/72 [==============================] - 0s 5ms/step - loss: 0.4569 - binary_accuracy: 0.7990\n",
      "after epoch 2\n",
      "loss: 0.456919401884079 accuracy: 0.7990368008613586\n"
     ]
    }
   ],
   "source": [
    "with device('/device:GPU:0'):\n",
    "  tweet_scores = m_final.evaluate([keyword_test, location_test, text_test], y_test)\n",
    "  print('after epoch 2')\n",
    "  print('loss: {} accuracy: {}'.format(*tweet_scores))"
   ]
  },
  {
   "cell_type": "code",
   "execution_count": 85,
   "metadata": {
    "colab": {
     "base_uri": "https://localhost:8080/"
    },
    "id": "4sqLSI42hG-H",
    "outputId": "73694bb1-3a64-4f75-fe3d-23a8327f9372"
   },
   "outputs": [
    {
     "name": "stdout",
     "output_type": "stream",
     "text": [
      "Epoch 3\n",
      "84/84 [==============================] - 2s 27ms/step - loss: 0.1608 - binary_accuracy: 0.9445\n"
     ]
    }
   ],
   "source": [
    "with device('/device:GPU:0'):\n",
    "  print('Epoch 3')\n",
    "  m_final.fit([keyword_train, location_train, text_train], y_train, epochs=1, batch_size=64)"
   ]
  },
  {
   "cell_type": "code",
   "execution_count": 86,
   "metadata": {
    "colab": {
     "base_uri": "https://localhost:8080/"
    },
    "id": "3pDAp9HShKTW",
    "outputId": "a1df12d0-3e49-4b62-f262-92cc55f2c191"
   },
   "outputs": [
    {
     "name": "stdout",
     "output_type": "stream",
     "text": [
      "72/72 [==============================] - 0s 5ms/step - loss: 0.5685 - binary_accuracy: 0.7723\n",
      "after epoch 3\n",
      "loss: 0.5684566497802734 accuracy: 0.7723292708396912\n"
     ]
    }
   ],
   "source": [
    "with device('/device:GPU:0'):\n",
    "  tweet_scores = m_final.evaluate([keyword_test, location_test, text_test], y_test)\n",
    "  print('after epoch 3')\n",
    "  print('loss: {} accuracy: {}'.format(*tweet_scores))"
   ]
  },
  {
   "cell_type": "markdown",
   "metadata": {},
   "source": [
    "In epoch 3 we begin to see signs of overfitting, with a super high training data accuracy, but a declining testing data accuracy."
   ]
  },
  {
   "cell_type": "code",
   "execution_count": 87,
   "metadata": {
    "colab": {
     "base_uri": "https://localhost:8080/"
    },
    "id": "07T1qUmPi74b",
    "outputId": "ecdefa88-549a-4764-fa86-9742cd2fe6e8"
   },
   "outputs": [
    {
     "name": "stdout",
     "output_type": "stream",
     "text": [
      "Epoch 4\n",
      "84/84 [==============================] - 2s 27ms/step - loss: 0.0878 - binary_accuracy: 0.9728\n"
     ]
    }
   ],
   "source": [
    "with device('/device:GPU:0'):\n",
    "  print('Epoch 4')\n",
    "  m_final.fit([keyword_train, location_train, text_train], y_train, epochs=1, batch_size=64)"
   ]
  },
  {
   "cell_type": "code",
   "execution_count": 88,
   "metadata": {
    "colab": {
     "base_uri": "https://localhost:8080/"
    },
    "id": "6L_30WnHi74c",
    "outputId": "d43ecc9c-383b-4a5d-8cbc-90f85cb6b837"
   },
   "outputs": [
    {
     "name": "stdout",
     "output_type": "stream",
     "text": [
      "72/72 [==============================] - 0s 5ms/step - loss: 0.6664 - binary_accuracy: 0.7469\n",
      "after epoch 4\n",
      "loss: 0.6663629412651062 accuracy: 0.7469351887702942\n"
     ]
    }
   ],
   "source": [
    "with device('/device:GPU:0'):\n",
    "  tweet_scores = m_final.evaluate([keyword_test, location_test, text_test], y_test)\n",
    "  print('after epoch 4')\n",
    "  print('loss: {} accuracy: {}'.format(*tweet_scores))"
   ]
  },
  {
   "cell_type": "code",
   "execution_count": 93,
   "metadata": {
    "colab": {
     "base_uri": "https://localhost:8080/"
    },
    "id": "oLzZMJq0xH-a",
    "outputId": "2605a019-c2c1-4b3a-d641-2a7c3a3dfa18"
   },
   "outputs": [
    {
     "name": "stdout",
     "output_type": "stream",
     "text": [
      "Epoch 5\n",
      "84/84 [==============================] - 2s 28ms/step - loss: 0.0476 - binary_accuracy: 0.9857\n"
     ]
    }
   ],
   "source": [
    "with device('/device:GPU:0'):\n",
    "  print('Epoch 5')\n",
    "  m_final.fit([keyword_train, location_train, text_train], y_train, epochs=1, batch_size=64)"
   ]
  },
  {
   "cell_type": "code",
   "execution_count": 94,
   "metadata": {
    "colab": {
     "base_uri": "https://localhost:8080/"
    },
    "id": "EF6ZGP0JxH-b",
    "outputId": "8f4ba1fa-f5a0-4c04-b644-2a0c79a5c651"
   },
   "outputs": [
    {
     "name": "stdout",
     "output_type": "stream",
     "text": [
      "72/72 [==============================] - 0s 5ms/step - loss: 0.7854 - binary_accuracy: 0.7535\n",
      "after epoch 5\n",
      "loss: 0.7853765487670898 accuracy: 0.753502607345581\n"
     ]
    }
   ],
   "source": [
    "with device('/device:GPU:0'):\n",
    "  tweet_scores = m_final.evaluate([keyword_test, location_test, text_test], y_test)\n",
    "  print('after epoch 5')\n",
    "  print('loss: {} accuracy: {}'.format(*tweet_scores))"
   ]
  },
  {
   "cell_type": "code",
   "execution_count": 95,
   "metadata": {
    "colab": {
     "base_uri": "https://localhost:8080/"
    },
    "id": "zN3pisWdxOD2",
    "outputId": "51b453ba-aa06-4434-b8e6-c5dd65eeefa0"
   },
   "outputs": [
    {
     "name": "stdout",
     "output_type": "stream",
     "text": [
      "Epoch 6\n",
      "84/84 [==============================] - 2s 28ms/step - loss: 0.0285 - binary_accuracy: 0.9921\n"
     ]
    }
   ],
   "source": [
    "with device('/device:GPU:0'):\n",
    "  print('Epoch 6')\n",
    "  m_final.fit([keyword_train, location_train, text_train], y_train, epochs=1, batch_size=64)"
   ]
  },
  {
   "cell_type": "code",
   "execution_count": 96,
   "metadata": {
    "colab": {
     "base_uri": "https://localhost:8080/"
    },
    "id": "20Cm57_MxOD3",
    "outputId": "1bc7db8a-469e-47c2-aa4d-4435975f3d3f"
   },
   "outputs": [
    {
     "name": "stdout",
     "output_type": "stream",
     "text": [
      "72/72 [==============================] - 0s 5ms/step - loss: 0.8121 - binary_accuracy: 0.7469\n",
      "after epoch 6\n",
      "loss: 0.8121131062507629 accuracy: 0.7469351887702942\n"
     ]
    }
   ],
   "source": [
    "with device('/device:GPU:0'):\n",
    "  tweet_scores = m_final.evaluate([keyword_test, location_test, text_test], y_test)\n",
    "  print('after epoch 6')\n",
    "  print('loss: {} accuracy: {}'.format(*tweet_scores))"
   ]
  },
  {
   "cell_type": "code",
   "execution_count": 97,
   "metadata": {
    "colab": {
     "base_uri": "https://localhost:8080/"
    },
    "id": "9IEswHvfxULE",
    "outputId": "7397aadd-3ca2-420d-ff49-0dbff37cdab0"
   },
   "outputs": [
    {
     "name": "stdout",
     "output_type": "stream",
     "text": [
      "Epoch 7\n",
      "84/84 [==============================] - 2s 28ms/step - loss: 0.0211 - binary_accuracy: 0.9938\n"
     ]
    }
   ],
   "source": [
    "with device('/device:GPU:0'):\n",
    "  print('Epoch 7')\n",
    "  m_final.fit([keyword_train, location_train, text_train], y_train, epochs=1, batch_size=64)"
   ]
  },
  {
   "cell_type": "code",
   "execution_count": 98,
   "metadata": {
    "colab": {
     "base_uri": "https://localhost:8080/"
    },
    "id": "FVwF47nnxULF",
    "outputId": "c1e3cb26-77c4-4bf1-de27-7082ec967e84"
   },
   "outputs": [
    {
     "name": "stdout",
     "output_type": "stream",
     "text": [
      "72/72 [==============================] - 0s 5ms/step - loss: 0.8220 - binary_accuracy: 0.7474\n",
      "after epoch 7\n",
      "loss: 0.8219590783119202 accuracy: 0.7473730444908142\n"
     ]
    }
   ],
   "source": [
    "with device('/device:GPU:0'):\n",
    "  tweet_scores = m_final.evaluate([keyword_test, location_test, text_test], y_test)\n",
    "  print('after epoch 7')\n",
    "  print('loss: {} accuracy: {}'.format(*tweet_scores))"
   ]
  },
  {
   "cell_type": "markdown",
   "metadata": {},
   "source": [
    "In the subsequent epochs, the testing data accuracy declined more, finally settling around 75%, while the training data accuracy climbed to nearly perfect. I think this overfitting shows that the model was much larger than necessary."
   ]
  },
  {
   "cell_type": "code",
   "execution_count": 92,
   "metadata": {
    "colab": {
     "base_uri": "https://localhost:8080/"
    },
    "id": "7y_ZKcwvw-fL",
    "outputId": "3792904f-9c1c-47d4-a2ee-5b1ddf1de1bd"
   },
   "outputs": [
    {
     "name": "stdout",
     "output_type": "stream",
     "text": [
      "Model: \"model_15\"\n",
      "__________________________________________________________________________________________________\n",
      "Layer (type)                    Output Shape         Param #     Connected to                     \n",
      "==================================================================================================\n",
      "input_8 (InputLayer)            [(None, 3)]          0                                            \n",
      "__________________________________________________________________________________________________\n",
      "input_9 (InputLayer)            [(None, 24)]         0                                            \n",
      "__________________________________________________________________________________________________\n",
      "embedding_6 (Embedding)         (None, 3, 6)         19950       input_8[0][0]                    \n",
      "__________________________________________________________________________________________________\n",
      "embedding_7 (Embedding)         (None, 24, 80)       1816080     input_9[0][0]                    \n",
      "__________________________________________________________________________________________________\n",
      "input_7 (InputLayer)            [(None, 239)]        0                                            \n",
      "__________________________________________________________________________________________________\n",
      "lstm_9 (LSTM)                   (None, 4)            176         embedding_6[0][0]                \n",
      "__________________________________________________________________________________________________\n",
      "lstm_10 (LSTM)                  (None, 24, 24)       10080       embedding_7[0][0]                \n",
      "__________________________________________________________________________________________________\n",
      "dense_13 (Dense)                (None, 1)            240         input_7[0][0]                    \n",
      "__________________________________________________________________________________________________\n",
      "dense_14 (Dense)                (None, 8)            40          lstm_9[0][0]                     \n",
      "__________________________________________________________________________________________________\n",
      "lstm_11 (LSTM)                  (None, 24)           4704        lstm_10[0][0]                    \n",
      "__________________________________________________________________________________________________\n",
      "concatenate_4 (Concatenate)     (None, 33)           0           dense_13[0][0]                   \n",
      "                                                                 dense_14[0][0]                   \n",
      "                                                                 lstm_11[0][0]                    \n",
      "__________________________________________________________________________________________________\n",
      "dense_15 (Dense)                (None, 20)           680         concatenate_4[0][0]              \n",
      "__________________________________________________________________________________________________\n",
      "dense_16 (Dense)                (None, 1)            21          dense_15[0][0]                   \n",
      "==================================================================================================\n",
      "Total params: 1,851,971\n",
      "Trainable params: 1,851,971\n",
      "Non-trainable params: 0\n",
      "__________________________________________________________________________________________________\n"
     ]
    }
   ],
   "source": [
    "m_final.summary()"
   ]
  },
  {
   "cell_type": "markdown",
   "metadata": {},
   "source": [
    "For the second try, I decided to eliminate the location variable entirely because I supposed that physical location was not really a factor in whether something was a disaster, and when it was obviously sarcastic then the tweet would be as well. For the keyword, I also changed the activation to relu."
   ]
  },
  {
   "cell_type": "code",
   "execution_count": 103,
   "metadata": {
    "id": "ugkIIhZbyVWX"
   },
   "outputs": [],
   "source": [
    "m_keyword2 = Dense(1, activation='relu')(input_keyword)\n",
    "m_keyword2 = Model(inputs=input_keyword, outputs=m_keyword2)"
   ]
  },
  {
   "cell_type": "code",
   "execution_count": 104,
   "metadata": {
    "id": "4J97IuROxeDO"
   },
   "outputs": [],
   "source": [
    "combined2 = concatenate([m_keyword2.output, m_text.output])"
   ]
  },
  {
   "cell_type": "code",
   "execution_count": 105,
   "metadata": {
    "id": "kvihDI2txeDP"
   },
   "outputs": [],
   "source": [
    "m_final2 = Dense(20, activation=\"relu\")(combined2)\n",
    "m_final2 = Dense(1, activation=\"sigmoid\")(m_final2)\n",
    "m_final2 = Model(inputs=[m_keyword2.input, m_text.input], outputs=m_final2)"
   ]
  },
  {
   "cell_type": "code",
   "execution_count": 106,
   "metadata": {
    "colab": {
     "base_uri": "https://localhost:8080/",
     "height": 754
    },
    "id": "A01CClQcxeDP",
    "outputId": "da6f0c71-ae66-4668-e0f8-ec1737ef22bd"
   },
   "outputs": [
    {
     "data": {
      "image/png": "[encoded data removed]",
      "text/plain": [
       "<IPython.core.display.Image object>"
      ]
     },
     "execution_count": 106,
     "metadata": {
      "tags": []
     },
     "output_type": "execute_result"
    }
   ],
   "source": [
    "from keras.utils import plot_model\n",
    "plot_model(m_final2, show_shapes=True)"
   ]
  },
  {
   "cell_type": "code",
   "execution_count": 112,
   "metadata": {
    "colab": {
     "base_uri": "https://localhost:8080/"
    },
    "id": "ihUEICNLzh6M",
    "outputId": "08e14ea5-487b-4dda-87cb-7a3237e3b552"
   },
   "outputs": [
    {
     "name": "stdout",
     "output_type": "stream",
     "text": [
      "Model: \"model_19\"\n",
      "__________________________________________________________________________________________________\n",
      "Layer (type)                    Output Shape         Param #     Connected to                     \n",
      "==================================================================================================\n",
      "input_9 (InputLayer)            [(None, 24)]         0                                            \n",
      "__________________________________________________________________________________________________\n",
      "embedding_7 (Embedding)         (None, 24, 80)       1816080     input_9[0][0]                    \n",
      "__________________________________________________________________________________________________\n",
      "input_7 (InputLayer)            [(None, 239)]        0                                            \n",
      "__________________________________________________________________________________________________\n",
      "lstm_10 (LSTM)                  (None, 24, 24)       10080       embedding_7[0][0]                \n",
      "__________________________________________________________________________________________________\n",
      "dense_21 (Dense)                (None, 1)            240         input_7[0][0]                    \n",
      "__________________________________________________________________________________________________\n",
      "lstm_11 (LSTM)                  (None, 24)           4704        lstm_10[0][0]                    \n",
      "__________________________________________________________________________________________________\n",
      "concatenate_6 (Concatenate)     (None, 25)           0           dense_21[0][0]                   \n",
      "                                                                 lstm_11[0][0]                    \n",
      "__________________________________________________________________________________________________\n",
      "dense_22 (Dense)                (None, 20)           520         concatenate_6[0][0]              \n",
      "__________________________________________________________________________________________________\n",
      "dense_23 (Dense)                (None, 1)            21          dense_22[0][0]                   \n",
      "==================================================================================================\n",
      "Total params: 1,831,645\n",
      "Trainable params: 1,831,645\n",
      "Non-trainable params: 0\n",
      "__________________________________________________________________________________________________\n"
     ]
    }
   ],
   "source": [
    "m_final2.summary()"
   ]
  },
  {
   "cell_type": "code",
   "execution_count": 107,
   "metadata": {
    "id": "lmu6cdsOyuEU"
   },
   "outputs": [],
   "source": [
    "m_final2.compile(loss='binary_crossentropy', optimizer='adam', metrics=['binary_accuracy'])"
   ]
  },
  {
   "cell_type": "code",
   "execution_count": 108,
   "metadata": {
    "colab": {
     "base_uri": "https://localhost:8080/"
    },
    "id": "7GC1rUoYyuEV",
    "outputId": "cc4278a1-2af9-4143-f6df-a151a07cd5f0"
   },
   "outputs": [
    {
     "name": "stdout",
     "output_type": "stream",
     "text": [
      "Epoch 1\n",
      "84/84 [==============================] - 5s 24ms/step - loss: 0.4717 - binary_accuracy: 0.8049\n"
     ]
    }
   ],
   "source": [
    "# Train using GPU acceleration\n",
    "# (see https://colab.research.google.com/notebooks/gpu.ipynb#scrollTo=Y04m-jvKRDsJ)\n",
    "device_name = test.gpu_device_name()\n",
    "if device_name != '/device:GPU:0':\n",
    "  print(\n",
    "      '\\n\\nThis error most likely means that this notebook is not '\n",
    "      'configured to use a GPU.  Change this in Notebook Settings via the '\n",
    "      'command palette (cmd/ctrl-shift-P) or the Edit menu.\\n\\n')\n",
    "  raise SystemError('GPU device not found')\n",
    "\n",
    "with device('/device:GPU:0'):\n",
    "  print('Epoch 1')\n",
    "  m_final2.fit([keyword_train, text_train], y_train, epochs=1, batch_size=64)"
   ]
  },
  {
   "cell_type": "code",
   "execution_count": 109,
   "metadata": {
    "colab": {
     "base_uri": "https://localhost:8080/"
    },
    "id": "rP45EcXtyuEW",
    "outputId": "ff18fdef-56e3-439d-9636-f678ff3f88ff"
   },
   "outputs": [
    {
     "name": "stdout",
     "output_type": "stream",
     "text": [
      "72/72 [==============================] - 1s 4ms/step - loss: 0.6428 - binary_accuracy: 0.7377\n",
      "after epoch 1\n",
      "loss: 0.6427866220474243 accuracy: 0.7377408146858215\n"
     ]
    }
   ],
   "source": [
    "with device('/device:GPU:0'):\n",
    "  tweet_scores = m_final2.evaluate([keyword_test, text_test], y_test)\n",
    "  print('after epoch 1')\n",
    "  print('loss: {} accuracy: {}'.format(*tweet_scores))"
   ]
  },
  {
   "cell_type": "code",
   "execution_count": 110,
   "metadata": {
    "colab": {
     "base_uri": "https://localhost:8080/"
    },
    "id": "VrdENwpey8Gw",
    "outputId": "7948c1d9-34f0-42b2-adc4-2e5cda885661"
   },
   "outputs": [
    {
     "name": "stdout",
     "output_type": "stream",
     "text": [
      "Epoch 2\n",
      "84/84 [==============================] - 2s 25ms/step - loss: 0.0458 - binary_accuracy: 0.9901\n"
     ]
    }
   ],
   "source": [
    "with device('/device:GPU:0'):\n",
    "  print('Epoch 2')\n",
    "  m_final2.fit([keyword_train, text_train], y_train, epochs=1, batch_size=64)"
   ]
  },
  {
   "cell_type": "code",
   "execution_count": 111,
   "metadata": {
    "colab": {
     "base_uri": "https://localhost:8080/"
    },
    "id": "2qwV6rZozDc4",
    "outputId": "f0a410da-d8eb-4e3e-be24-83bf71cab442"
   },
   "outputs": [
    {
     "name": "stdout",
     "output_type": "stream",
     "text": [
      "72/72 [==============================] - 0s 4ms/step - loss: 0.7717 - binary_accuracy: 0.7588\n",
      "after epoch 2\n",
      "loss: 0.7717095017433167 accuracy: 0.7587565779685974\n"
     ]
    }
   ],
   "source": [
    "with device('/device:GPU:0'):\n",
    "  tweet_scores = m_final2.evaluate([keyword_test, text_test], y_test)\n",
    "  print('after epoch 2')\n",
    "  print('loss: {} accuracy: {}'.format(*tweet_scores))"
   ]
  },
  {
   "cell_type": "markdown",
   "metadata": {},
   "source": [
    "Once again I was taken aback, as this model overfit an insane amount by the second epoch, and both training and test accuracies were at the same place where the first model plateaued. Oddly, when the model had a lower training accuracy in the first round, the test accuracy was not as high as in the first model. Overall, this was a good learning experience in a lot of areas."
   ]
  }
 ],
 "metadata": {
  "accelerator": "GPU",
  "colab": {
   "collapsed_sections": [],
   "name": "DisasterDetection.ipynb",
   "provenance": []
  },
  "kernelspec": {
   "display_name": "Python 3",
   "language": "python",
   "name": "python3"
  },
  "language_info": {
   "codemirror_mode": {
    "name": "ipython",
    "version": 3
   },
   "file_extension": ".py",
   "mimetype": "text/x-python",
   "name": "python",
   "nbconvert_exporter": "python",
   "pygments_lexer": "ipython3",
   "version": "3.8.5"
  }
 },
 "nbformat": 4,
 "nbformat_minor": 1
}
