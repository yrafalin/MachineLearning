{
  "nbformat": 4,
  "nbformat_minor": 0,
  "metadata": {
    "colab": {
      "name": "SarcasmDetection.ipynb",
      "provenance": [],
      "collapsed_sections": []
    },
    "kernelspec": {
      "name": "python3",
      "display_name": "Python 3"
    },
    "language_info": {
      "name": "python"
    },
    "accelerator": "GPU"
  },
  "cells": [
    {
      "cell_type": "code",
      "metadata": {
        "id": "TyVhRCAAfQ3d"
      },
      "source": [
        "%tensorflow_version 2.x\n",
        "%matplotlib inline"
      ],
      "execution_count": 1,
      "outputs": []
    },
    {
      "cell_type": "code",
      "metadata": {
        "id": "tLqOe-defsBa"
      },
      "source": [
        "from keras.preprocessing import sequence\n",
        "from keras.preprocessing.text import Tokenizer\n",
        "from keras.models import Sequential\n",
        "from keras.layers import Embedding, Conv1D, Dense, Flatten\n",
        "from tensorflow import test, device\n",
        "from sklearn.model_selection import train_test_split\n",
        "from sklearn.metrics import precision_recall_fscore_support"
      ],
      "execution_count": 2,
      "outputs": []
    },
    {
      "cell_type": "code",
      "metadata": {
        "colab": {
          "base_uri": "https://localhost:8080/"
        },
        "id": "dgNc8hWaf8kf",
        "outputId": "6b02de81-722c-4d1c-c9e2-4b148231aa76"
      },
      "source": [
        "import json\n",
        "import numpy as np\n",
        "\n",
        "data = []\n",
        "with open('Sarcasm_Headlines_Dataset.json','r') as json_file:\n",
        "    for l in json_file:\n",
        "        data.append(list(json.loads(l).values()))\n",
        "\n",
        "data = np.array(data)\n",
        "x_data = data[:, 1]\n",
        "y_data = data[:, 2]\n",
        "\n",
        "data2 = []\n",
        "with open('Sarcasm_Headlines_Dataset_v2.json','r') as json_file:\n",
        "    for l in json_file:\n",
        "        data2.append(list(json.loads(l).values()))\n",
        "\n",
        "data2 = np.array(data2)\n",
        "x2_data = data2[:, 1]\n",
        "y2_data = data2[:, 0]\n",
        "\n",
        "data[:10]"
      ],
      "execution_count": 3,
      "outputs": [
        {
          "output_type": "execute_result",
          "data": {
            "text/plain": [
              "array([['https://www.huffingtonpost.com/entry/versace-black-code_us_5861fbefe4b0de3a08f600d5',\n",
              "        \"former versace store clerk sues over secret 'black code' for minority shoppers\",\n",
              "        '0'],\n",
              "       ['https://www.huffingtonpost.com/entry/roseanne-revival-review_us_5ab3a497e4b054d118e04365',\n",
              "        \"the 'roseanne' revival catches up to our thorny political mood, for better and worse\",\n",
              "        '0'],\n",
              "       ['https://local.theonion.com/mom-starting-to-fear-son-s-web-series-closest-thing-she-1819576697',\n",
              "        \"mom starting to fear son's web series closest thing she will have to grandchild\",\n",
              "        '1'],\n",
              "       ['https://politics.theonion.com/boehner-just-wants-wife-to-listen-not-come-up-with-alt-1819574302',\n",
              "        'boehner just wants wife to listen, not come up with alternative debt-reduction ideas',\n",
              "        '1'],\n",
              "       ['https://www.huffingtonpost.com/entry/jk-rowling-wishes-snape-happy-birthday_us_569117c4e4b0cad15e64fdcb',\n",
              "        'j.k. rowling wishes snape happy birthday in the most magical way',\n",
              "        '0'],\n",
              "       ['https://www.huffingtonpost.com/entry/advancing-the-worlds-women_b_6810038.html',\n",
              "        \"advancing the world's women\", '0'],\n",
              "       ['https://www.huffingtonpost.com/entry/how-meat-is-grown-in-a-lab_us_561d1189e4b0c5a1ce607e86',\n",
              "        'the fascinating case for eating lab-grown meat', '0'],\n",
              "       ['https://www.huffingtonpost.com/entry/boxed-college-tuition-ben_n_7445644.html',\n",
              "        'this ceo will send your kids to school, if you work for his company',\n",
              "        '0'],\n",
              "       ['https://politics.theonion.com/top-snake-handler-leaves-sinking-huckabee-campaign-1819578231',\n",
              "        'top snake handler leaves sinking huckabee campaign', '1'],\n",
              "       ['https://www.huffingtonpost.com/entry/fridays-morning-email-inside-trumps-presser-for-the-ages_us_58a6e33ee4b07602ad53a315',\n",
              "        \"friday's morning email: inside trump's presser for the ages\",\n",
              "        '0']], dtype='<U272')"
            ]
          },
          "metadata": {
            "tags": []
          },
          "execution_count": 3
        }
      ]
    },
    {
      "cell_type": "code",
      "metadata": {
        "colab": {
          "base_uri": "https://localhost:8080/"
        },
        "id": "zNI9xM_XsGnN",
        "outputId": "803ffdb4-3834-44c2-f59a-8cde3e2519fe"
      },
      "source": [
        "data2[:10]"
      ],
      "execution_count": 4,
      "outputs": [
        {
          "output_type": "execute_result",
          "data": {
            "text/plain": [
              "array([['1',\n",
              "        'thirtysomething scientists unveil doomsday clock of hair loss',\n",
              "        'https://www.theonion.com/thirtysomething-scientists-unveil-doomsday-clock-of-hai-1819586205'],\n",
              "       ['0',\n",
              "        'dem rep. totally nails why congress is falling short on gender, racial equality',\n",
              "        'https://www.huffingtonpost.com/entry/donna-edwards-inequality_us_57455f7fe4b055bb1170b207'],\n",
              "       ['0', 'eat your veggies: 9 deliciously different recipes',\n",
              "        'https://www.huffingtonpost.com/entry/eat-your-veggies-9-delici_b_8899742.html'],\n",
              "       ['1', 'inclement weather prevents liar from getting to work',\n",
              "        'https://local.theonion.com/inclement-weather-prevents-liar-from-getting-to-work-1819576031'],\n",
              "       ['1',\n",
              "        \"mother comes pretty close to using word 'streaming' correctly\",\n",
              "        'https://www.theonion.com/mother-comes-pretty-close-to-using-word-streaming-cor-1819575546'],\n",
              "       ['0', 'my white inheritance',\n",
              "        'https://www.huffingtonpost.com/entry/my-white-inheritance_us_59230747e4b07617ae4cbe1a'],\n",
              "       ['0', '5 ways to file your taxes with less stress',\n",
              "        'https://www.huffingtonpost.com/entry/5-ways-to-file-your-taxes_b_6957316.html'],\n",
              "       ['1',\n",
              "        \"richard branson's global-warming donation nearly as much as cost of failed balloon trips\",\n",
              "        'https://www.theonion.com/richard-bransons-global-warming-donation-nearly-as-much-1819568749'],\n",
              "       ['1',\n",
              "        'shadow government getting too large to meet in marriott conference room b',\n",
              "        'https://politics.theonion.com/shadow-government-getting-too-large-to-meet-in-marriott-1819570731'],\n",
              "       ['0', 'lots of parents know this scenario',\n",
              "        'https://www.huffingtonpost.comhttp://pubx.co/6IXxhm']],\n",
              "      dtype='<U926')"
            ]
          },
          "metadata": {
            "tags": []
          },
          "execution_count": 4
        }
      ]
    },
    {
      "cell_type": "code",
      "metadata": {
        "id": "1L4gs-W5sqK4"
      },
      "source": [
        "x_data = np.concatenate((x_data, x2_data))\n",
        "y_data = np.concatenate((y_data, y2_data))"
      ],
      "execution_count": 5,
      "outputs": []
    },
    {
      "cell_type": "code",
      "metadata": {
        "colab": {
          "base_uri": "https://localhost:8080/"
        },
        "id": "i2VsMUU2rJjJ",
        "outputId": "7d65c56c-775e-4c8b-c38e-646dd64f3089"
      },
      "source": [
        "x_data.shape"
      ],
      "execution_count": 6,
      "outputs": [
        {
          "output_type": "execute_result",
          "data": {
            "text/plain": [
              "(55328,)"
            ]
          },
          "metadata": {
            "tags": []
          },
          "execution_count": 6
        }
      ]
    },
    {
      "cell_type": "code",
      "metadata": {
        "colab": {
          "base_uri": "https://localhost:8080/"
        },
        "id": "1vfeJrn7jq5t",
        "outputId": "11bbd282-70ab-46db-ba3b-0abea4073cf3"
      },
      "source": [
        "y_data"
      ],
      "execution_count": 7,
      "outputs": [
        {
          "output_type": "execute_result",
          "data": {
            "text/plain": [
              "array(['0', '0', '1', ..., '0', '1', '1'], dtype='<U926')"
            ]
          },
          "metadata": {
            "tags": []
          },
          "execution_count": 7
        }
      ]
    },
    {
      "cell_type": "code",
      "metadata": {
        "colab": {
          "base_uri": "https://localhost:8080/"
        },
        "id": "1Em69uWEjz0e",
        "outputId": "a45516ab-02ef-4ac2-fb72-14ec9142896c"
      },
      "source": [
        "y_data = y_data.astype(np.uint8)\n",
        "y_data"
      ],
      "execution_count": 8,
      "outputs": [
        {
          "output_type": "execute_result",
          "data": {
            "text/plain": [
              "array([0, 0, 1, ..., 0, 1, 1], dtype=uint8)"
            ]
          },
          "metadata": {
            "tags": []
          },
          "execution_count": 8
        }
      ]
    },
    {
      "cell_type": "code",
      "metadata": {
        "id": "EVln3k9XkcHI"
      },
      "source": [
        "t = Tokenizer()\n",
        "t.fit_on_texts(x_data)\n",
        "x_tokenized = t.texts_to_sequences(x_data)"
      ],
      "execution_count": 9,
      "outputs": []
    },
    {
      "cell_type": "code",
      "metadata": {
        "colab": {
          "base_uri": "https://localhost:8080/"
        },
        "id": "50fXZGBSnQ59",
        "outputId": "0f5132a5-7324-42d5-e03b-da18c649d5e7"
      },
      "source": [
        "lengths = [len(headline) for headline in x_tokenized]\n",
        "print('Longest headline: {} Shortest headline: {}'.format(max(lengths), min(lengths)))"
      ],
      "execution_count": 10,
      "outputs": [
        {
          "output_type": "stream",
          "text": [
            "Longest headline: 152 Shortest headline: 2\n"
          ],
          "name": "stdout"
        }
      ]
    },
    {
      "cell_type": "code",
      "metadata": {
        "colab": {
          "base_uri": "https://localhost:8080/",
          "height": 333
        },
        "id": "UfxqI9kgqCIe",
        "outputId": "b437cb16-9319-484a-c1f2-f1930e39d365"
      },
      "source": [
        "import matplotlib\n",
        "matplotlib.pyplot.hist(lengths)"
      ],
      "execution_count": 11,
      "outputs": [
        {
          "output_type": "execute_result",
          "data": {
            "text/plain": [
              "(array([5.3518e+04, 1.8030e+03, 6.0000e+00, 0.0000e+00, 0.0000e+00,\n",
              "        0.0000e+00, 0.0000e+00, 0.0000e+00, 0.0000e+00, 1.0000e+00]),\n",
              " array([  2.,  17.,  32.,  47.,  62.,  77.,  92., 107., 122., 137., 152.]),\n",
              " <a list of 10 Patch objects>)"
            ]
          },
          "metadata": {
            "tags": []
          },
          "execution_count": 11
        },
        {
          "output_type": "display_data",
          "data": {
            "image/png": "[encoded data removed]",
            "text/plain": [
              "<Figure size 432x288 with 1 Axes>"
            ]
          },
          "metadata": {
            "tags": [],
            "needs_background": "light"
          }
        }
      ]
    },
    {
      "cell_type": "code",
      "metadata": {
        "colab": {
          "base_uri": "https://localhost:8080/"
        },
        "id": "NKROGz-2p1ks",
        "outputId": "afa101ae-5466-4227-ebcb-62eaceb830c3"
      },
      "source": [
        "cutoff = 14\n",
        "print('{} headlines out of {} are over {}.'.format(\n",
        "    sum([1 for length in lengths if length > cutoff]), \n",
        "    len(lengths), \n",
        "    cutoff))"
      ],
      "execution_count": 12,
      "outputs": [
        {
          "output_type": "stream",
          "text": [
            "4936 headlines out of 55328 are over 14.\n"
          ],
          "name": "stdout"
        }
      ]
    },
    {
      "cell_type": "code",
      "metadata": {
        "id": "wf3fuwf-qdQU"
      },
      "source": [
        "x_train, x_test, y_train, y_test = train_test_split(x_tokenized, y_data, test_size=0.3, random_state=42)"
      ],
      "execution_count": 13,
      "outputs": []
    },
    {
      "cell_type": "code",
      "metadata": {
        "id": "t2Gf2XtVqaxs"
      },
      "source": [
        "x_train_padded = sequence.pad_sequences(x_train, maxlen=cutoff)\n",
        "x_test_padded = sequence.pad_sequences(x_test, maxlen=cutoff)"
      ],
      "execution_count": 14,
      "outputs": []
    },
    {
      "cell_type": "code",
      "metadata": {
        "id": "GsS2u3cxq1Tn"
      },
      "source": [
        "model = Sequential()\n",
        "model.add(Embedding(input_dim=len(x_train), output_dim=100, input_length=cutoff))\n",
        "model.add(Conv1D(filters=32, kernel_size=5, activation='relu'))\n",
        "model.add(Conv1D(filters=32, kernel_size=5, activation='relu'))\n",
        "model.add(Flatten())\n",
        "model.add(Dense(units=128, activation='relu'))\n",
        "model.add(Dense(units=1, activation='sigmoid'))\n",
        "model.compile(loss='binary_crossentropy', optimizer='adam', metrics=['binary_accuracy'])"
      ],
      "execution_count": 15,
      "outputs": []
    },
    {
      "cell_type": "code",
      "metadata": {
        "colab": {
          "base_uri": "https://localhost:8080/"
        },
        "id": "NdJO2ieD-3Le",
        "outputId": "4364de6a-16d9-40fd-f1ff-647e06a83628"
      },
      "source": [
        "model.summary()"
      ],
      "execution_count": 27,
      "outputs": [
        {
          "output_type": "stream",
          "text": [
            "Model: \"sequential\"\n",
            "_________________________________________________________________\n",
            "Layer (type)                 Output Shape              Param #   \n",
            "=================================================================\n",
            "embedding (Embedding)        (None, 14, 100)           3872900   \n",
            "_________________________________________________________________\n",
            "conv1d (Conv1D)              (None, 10, 32)            16032     \n",
            "_________________________________________________________________\n",
            "conv1d_1 (Conv1D)            (None, 6, 32)             5152      \n",
            "_________________________________________________________________\n",
            "flatten (Flatten)            (None, 192)               0         \n",
            "_________________________________________________________________\n",
            "dense (Dense)                (None, 128)               24704     \n",
            "_________________________________________________________________\n",
            "dense_1 (Dense)              (None, 1)                 129       \n",
            "=================================================================\n",
            "Total params: 3,918,917\n",
            "Trainable params: 3,918,917\n",
            "Non-trainable params: 0\n",
            "_________________________________________________________________\n"
          ],
          "name": "stdout"
        }
      ]
    },
    {
      "cell_type": "code",
      "metadata": {
        "colab": {
          "base_uri": "https://localhost:8080/"
        },
        "id": "fXzVoMRyrcdE",
        "outputId": "0bd96a7d-21de-4ca5-e3c5-9b602d53e760"
      },
      "source": [
        "# Train using GPU acceleration\n",
        "# (see https://colab.research.google.com/notebooks/gpu.ipynb#scrollTo=Y04m-jvKRDsJ)\n",
        "device_name = test.gpu_device_name()\n",
        "if device_name != '/device:GPU:0':\n",
        "    print(\n",
        "        '\\n\\nThis error most likely means that this notebook is not '\n",
        "        'configured to use a GPU.  Change this in Notebook Settings via the '\n",
        "        'command palette (cmd/ctrl-shift-P) or the Edit menu.\\n\\n')\n",
        "    raise SystemError('GPU device not found')\n",
        "\n",
        "with device('/device:GPU:0'):\n",
        "    model.fit(x_train_padded, y_train, epochs=1, batch_size=64)  # 5 total epochs"
      ],
      "execution_count": 24,
      "outputs": [
        {
          "output_type": "stream",
          "text": [
            "606/606 [==============================] - 22s 37ms/step - loss: 1.8232e-04 - binary_accuracy: 1.0000\n"
          ],
          "name": "stdout"
        }
      ]
    },
    {
      "cell_type": "code",
      "metadata": {
        "colab": {
          "base_uri": "https://localhost:8080/"
        },
        "id": "mFpkHfEHtNmj",
        "outputId": "b68cf1ff-2175-41b6-f842-37bbf48aa84b"
      },
      "source": [
        "with device('/device:GPU:0'):\n",
        "    scores = model.evaluate(x_test_padded, y_test)\n",
        "print('loss: {} accuracy: {}'.format(*scores))  # post epoch 1"
      ],
      "execution_count": 17,
      "outputs": [
        {
          "output_type": "stream",
          "text": [
            "519/519 [==============================] - 1s 2ms/step - loss: 0.1703 - binary_accuracy: 0.9346\n",
            "loss: 0.17026230692863464 accuracy: 0.9346346259117126\n"
          ],
          "name": "stdout"
        }
      ]
    },
    {
      "cell_type": "code",
      "metadata": {
        "colab": {
          "base_uri": "https://localhost:8080/"
        },
        "id": "n18in4h8tgFE",
        "outputId": "1d53d73c-5a68-4c03-a998-3fce6a41b11d"
      },
      "source": [
        "with device('/device:GPU:0'):\n",
        "    scores = model.evaluate(x_test_padded, y_test)\n",
        "print('loss: {} accuracy: {}'.format(*scores))  # post epoch 2"
      ],
      "execution_count": 19,
      "outputs": [
        {
          "output_type": "stream",
          "text": [
            "519/519 [==============================] - 1s 2ms/step - loss: 0.1504 - binary_accuracy: 0.9481\n",
            "loss: 0.15044161677360535 accuracy: 0.948129415512085\n"
          ],
          "name": "stdout"
        }
      ]
    },
    {
      "cell_type": "code",
      "metadata": {
        "colab": {
          "base_uri": "https://localhost:8080/"
        },
        "id": "s_lSPK9K9lFd",
        "outputId": "05560e49-93b3-4e37-c66e-7e12a14d4b92"
      },
      "source": [
        "with device('/device:GPU:0'):\n",
        "    scores = model.evaluate(x_test_padded, y_test)\n",
        "print('loss: {} accuracy: {}'.format(*scores))  # post epoch 3"
      ],
      "execution_count": 21,
      "outputs": [
        {
          "output_type": "stream",
          "text": [
            "519/519 [==============================] - 1s 2ms/step - loss: 0.2268 - binary_accuracy: 0.9526\n",
            "loss: 0.22676394879817963 accuracy: 0.9525874853134155\n"
          ],
          "name": "stdout"
        }
      ]
    },
    {
      "cell_type": "code",
      "metadata": {
        "colab": {
          "base_uri": "https://localhost:8080/"
        },
        "id": "fMeVGRqp90ow",
        "outputId": "6f3bd5d3-0990-4871-f112-90be2749fb6d"
      },
      "source": [
        "with device('/device:GPU:0'):\n",
        "    scores = model.evaluate(x_test_padded, y_test)\n",
        "print('loss: {} accuracy: {}'.format(*scores))  # post epoch 4"
      ],
      "execution_count": 23,
      "outputs": [
        {
          "output_type": "stream",
          "text": [
            "519/519 [==============================] - 1s 2ms/step - loss: 0.2543 - binary_accuracy: 0.9533\n",
            "loss: 0.25429195165634155 accuracy: 0.9532501697540283\n"
          ],
          "name": "stdout"
        }
      ]
    },
    {
      "cell_type": "code",
      "metadata": {
        "colab": {
          "base_uri": "https://localhost:8080/"
        },
        "id": "4h7O57u1-CZm",
        "outputId": "c4fe560f-c76b-4b40-e1e0-6098eb3f2ee8"
      },
      "source": [
        "with device('/device:GPU:0'):\n",
        "    scores = model.evaluate(x_test_padded, y_test)\n",
        "print('loss: {} accuracy: {}'.format(*scores))  # post epoch 5"
      ],
      "execution_count": 25,
      "outputs": [
        {
          "output_type": "stream",
          "text": [
            "519/519 [==============================] - 1s 2ms/step - loss: 0.2830 - binary_accuracy: 0.9540\n",
            "loss: 0.2830181121826172 accuracy: 0.954033374786377\n"
          ],
          "name": "stdout"
        }
      ]
    },
    {
      "cell_type": "code",
      "metadata": {
        "colab": {
          "base_uri": "https://localhost:8080/"
        },
        "id": "cGqEFsFVvxuX",
        "outputId": "8058171a-9883-43d2-cc42-80168693fc12"
      },
      "source": [
        "predictions_test_onehot = model.predict(x_test_padded)\n",
        "predictions_test = np.round(predictions_test_onehot)  # use round not argmax\n",
        "precision_recall_fscore_support(y_true=y_test, y_pred=predictions_test)"
      ],
      "execution_count": 26,
      "outputs": [
        {
          "output_type": "execute_result",
          "data": {
            "text/plain": [
              "(array([0.95179521, 0.95669967]),\n",
              " array([0.96321633, 0.94337412]),\n",
              " array([0.95747171, 0.94999017]),\n",
              " array([8917, 7682]))"
            ]
          },
          "metadata": {
            "tags": []
          },
          "execution_count": 26
        }
      ]
    },
    {
      "cell_type": "markdown",
      "metadata": {
        "id": "ycms9qG9w5pj"
      },
      "source": [
        "This was surprisingly super accurate. I guess machine learning is powerful enough even to distinguish between fact and satire. Additionally, even though the loss was extremely small and the accuracy 100% for the train set, the model continued to improve its accuracy on the test set, even if by very small amounts.\n",
        "\n",
        "Let's test it on some recent theonion.com headlines."
      ]
    },
    {
      "cell_type": "code",
      "metadata": {
        "colab": {
          "base_uri": "https://localhost:8080/"
        },
        "id": "Dtru1h9XuJE6",
        "outputId": "32a3efc8-552d-45dc-925b-f65909ead90c"
      },
      "source": [
        "headline = t.texts_to_sequences(['Arkansas Legislator Warns Loophole In New Law Could Still Allow Trans Youth To Exist'])\n",
        "headline = sequence.pad_sequences(headline, maxlen=cutoff)\n",
        "headline"
      ],
      "execution_count": 28,
      "outputs": [
        {
          "output_type": "execute_result",
          "data": {
            "text/plain": [
              "array([[ 4128, 15021,   451, 11249,     4,    11,   283,    85,    71,\n",
              "         1688,   786,  1093,     1,  3095]], dtype=int32)"
            ]
          },
          "metadata": {
            "tags": []
          },
          "execution_count": 28
        }
      ]
    },
    {
      "cell_type": "code",
      "metadata": {
        "colab": {
          "base_uri": "https://localhost:8080/"
        },
        "id": "p6XO11aDuga7",
        "outputId": "618fe13d-9141-4967-8577-936699223a0a"
      },
      "source": [
        "model.predict(headline)"
      ],
      "execution_count": 29,
      "outputs": [
        {
          "output_type": "execute_result",
          "data": {
            "text/plain": [
              "array([[0.999972]], dtype=float32)"
            ]
          },
          "metadata": {
            "tags": []
          },
          "execution_count": 29
        }
      ]
    },
    {
      "cell_type": "markdown",
      "metadata": {
        "id": "e7MeSWAKxVpf"
      },
      "source": [
        "Hmm, in a previous attempt where the model had a 94.3% accuracy, it did not get this one right, but this around it did work out."
      ]
    },
    {
      "cell_type": "code",
      "metadata": {
        "colab": {
          "base_uri": "https://localhost:8080/"
        },
        "id": "hx9pioSHu6Vj",
        "outputId": "fa7d2f1b-ad99-45fc-a4cf-82932d8aee54"
      },
      "source": [
        "headline = t.texts_to_sequences(['U.S. Criticized For Giving $1 Trillion To Military Contractor To Develop Hat That Didn’t Work'])\n",
        "headline = sequence.pad_sequences(headline, maxlen=cutoff)\n",
        "model.predict(headline)"
      ],
      "execution_count": 30,
      "outputs": [
        {
          "output_type": "execute_result",
          "data": {
            "text/plain": [
              "array([[0.99012834]], dtype=float32)"
            ]
          },
          "metadata": {
            "tags": []
          },
          "execution_count": 30
        }
      ]
    },
    {
      "cell_type": "code",
      "metadata": {
        "colab": {
          "base_uri": "https://localhost:8080/"
        },
        "id": "m-qbFxg-vXz4",
        "outputId": "8419ca81-b65c-4798-b776-588b711f7b1d"
      },
      "source": [
        "headline = t.texts_to_sequences(['Billboard With Happy Family Inspires Estranged Dad To Almost Call Kids'])\n",
        "headline = sequence.pad_sequences(headline, maxlen=cutoff)\n",
        "model.predict(headline)"
      ],
      "execution_count": 31,
      "outputs": [
        {
          "output_type": "execute_result",
          "data": {
            "text/plain": [
              "array([[0.9998766]], dtype=float32)"
            ]
          },
          "metadata": {
            "tags": []
          },
          "execution_count": 31
        }
      ]
    },
    {
      "cell_type": "markdown",
      "metadata": {
        "id": "SUptJEawxc9D"
      },
      "source": [
        "Both these headlines worked for both models.\n",
        "\n",
        "Now a headline from the NYT."
      ]
    },
    {
      "cell_type": "code",
      "metadata": {
        "colab": {
          "base_uri": "https://localhost:8080/"
        },
        "id": "Egr_3cd3BNVX",
        "outputId": "a6afcf07-22e6-4377-fa42-1bb163f98ea9"
      },
      "source": [
        "headline = t.texts_to_sequences(['F.D.A. Will Allow Abortion Pills By Mail During the Pandemic'])\n",
        "headline = sequence.pad_sequences(headline, maxlen=cutoff)\n",
        "model.predict(headline)"
      ],
      "execution_count": 36,
      "outputs": [
        {
          "output_type": "execute_result",
          "data": {
            "text/plain": [
              "array([[1.6032559e-06]], dtype=float32)"
            ]
          },
          "metadata": {
            "tags": []
          },
          "execution_count": 36
        }
      ]
    },
    {
      "cell_type": "code",
      "metadata": {
        "colab": {
          "base_uri": "https://localhost:8080/"
        },
        "id": "rvZIB3S4CVyQ",
        "outputId": "7d2be8e0-a6dd-49e3-95f0-15c91e3fd1ff"
      },
      "source": [
        "headline = t.texts_to_sequences(['Anti-Gay Bias Hindered Toronto Police as Serial Killer Roamed'])\n",
        "headline = sequence.pad_sequences(headline, maxlen=cutoff)\n",
        "model.predict(headline)"
      ],
      "execution_count": 37,
      "outputs": [
        {
          "output_type": "execute_result",
          "data": {
            "text/plain": [
              "array([[2.5949927e-07]], dtype=float32)"
            ]
          },
          "metadata": {
            "tags": []
          },
          "execution_count": 37
        }
      ]
    },
    {
      "cell_type": "code",
      "metadata": {
        "colab": {
          "base_uri": "https://localhost:8080/"
        },
        "id": "F3JEdcvx_h3E",
        "outputId": "58147a32-abed-4570-d73c-c2d7de61a8ab"
      },
      "source": [
        "model.save(\"SarcasmModel\")"
      ],
      "execution_count": 32,
      "outputs": [
        {
          "output_type": "stream",
          "text": [
            "INFO:tensorflow:Assets written to: SarcasmModel/assets\n"
          ],
          "name": "stdout"
        }
      ]
    },
    {
      "cell_type": "code",
      "metadata": {
        "colab": {
          "base_uri": "https://localhost:8080/"
        },
        "id": "wJHLIheAAjSe",
        "outputId": "103bc20f-8d56-4ae0-f9e0-72907c1c9472"
      },
      "source": [
        "# https://stackoverflow.com/questions/50453428/how-do-i-download-multiple-files-or-an-entire-folder-from-google-colab\n",
        "!zip -r /content/SarcasmModel.zip /content/SarcasmModel"
      ],
      "execution_count": 34,
      "outputs": [
        {
          "output_type": "stream",
          "text": [
            "  adding: content/SarcasmModel/ (stored 0%)\n",
            "  adding: content/SarcasmModel/assets/ (stored 0%)\n",
            "  adding: content/SarcasmModel/variables/ (stored 0%)\n",
            "  adding: content/SarcasmModel/variables/variables.data-00000-of-00001 (deflated 24%)\n",
            "  adding: content/SarcasmModel/variables/variables.index (deflated 65%)\n",
            "  adding: content/SarcasmModel/saved_model.pb (deflated 87%)\n"
          ],
          "name": "stdout"
        }
      ]
    },
    {
      "cell_type": "code",
      "metadata": {
        "colab": {
          "base_uri": "https://localhost:8080/",
          "height": 17
        },
        "id": "GnTU1k2YAVeK",
        "outputId": "8be8029d-8abe-4021-a809-03f766738d89"
      },
      "source": [
        "from google.colab import files\n",
        "files.download(\"/content/SarcasmModel.zip\") "
      ],
      "execution_count": 35,
      "outputs": [
        {
          "output_type": "display_data",
          "data": {
            "application/javascript": [
              "\n",
              "    async function download(id, filename, size) {\n",
              "      if (!google.colab.kernel.accessAllowed) {\n",
              "        return;\n",
              "      }\n",
              "      const div = document.createElement('div');\n",
              "      const label = document.createElement('label');\n",
              "      label.textContent = `Downloading \"${filename}\": `;\n",
              "      div.appendChild(label);\n",
              "      const progress = document.createElement('progress');\n",
              "      progress.max = size;\n",
              "      div.appendChild(progress);\n",
              "      document.body.appendChild(div);\n",
              "\n",
              "      const buffers = [];\n",
              "      let downloaded = 0;\n",
              "\n",
              "      const channel = await google.colab.kernel.comms.open(id);\n",
              "      // Send a message to notify the kernel that we're ready.\n",
              "      channel.send({})\n",
              "\n",
              "      for await (const message of channel.messages) {\n",
              "        // Send a message to notify the kernel that we're ready.\n",
              "        channel.send({})\n",
              "        if (message.buffers) {\n",
              "          for (const buffer of message.buffers) {\n",
              "            buffers.push(buffer);\n",
              "            downloaded += buffer.byteLength;\n",
              "            progress.value = downloaded;\n",
              "          }\n",
              "        }\n",
              "      }\n",
              "      const blob = new Blob(buffers, {type: 'application/binary'});\n",
              "      const a = document.createElement('a');\n",
              "      a.href = window.URL.createObjectURL(blob);\n",
              "      a.download = filename;\n",
              "      div.appendChild(a);\n",
              "      a.click();\n",
              "      div.remove();\n",
              "    }\n",
              "  "
            ],
            "text/plain": [
              "<IPython.core.display.Javascript object>"
            ]
          },
          "metadata": {
            "tags": []
          }
        },
        {
          "output_type": "display_data",
          "data": {
            "application/javascript": [
              "download(\"download_81436703-3d23-4a7e-8df3-502647c96c57\", \"SarcasmModel.zip\", 35855295)"
            ],
            "text/plain": [
              "<IPython.core.display.Javascript object>"
            ]
          },
          "metadata": {
            "tags": []
          }
        }
      ]
    }
  ]
}