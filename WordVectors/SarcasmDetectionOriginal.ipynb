{
 "cells": [
  {
   "cell_type": "code",
   "execution_count": 2,
   "metadata": {
    "id": "TyVhRCAAfQ3d"
   },
   "outputs": [],
   "source": [
    "%tensorflow_version 2.x\n",
    "%matplotlib inline"
   ]
  },
  {
   "cell_type": "code",
   "execution_count": 36,
   "metadata": {
    "id": "tLqOe-defsBa"
   },
   "outputs": [],
   "source": [
    "from keras.preprocessing import sequence\n",
    "from keras.preprocessing.text import Tokenizer\n",
    "from keras.models import Sequential\n",
    "from keras.layers import Embedding, Conv1D, Dense, Flatten\n",
    "from tensorflow import test, device\n",
    "from sklearn.model_selection import train_test_split\n",
    "from sklearn.metrics import precision_recall_fscore_support"
   ]
  },
  {
   "cell_type": "code",
   "execution_count": 12,
   "metadata": {
    "colab": {
     "base_uri": "https://localhost:8080/"
    },
    "id": "dgNc8hWaf8kf",
    "outputId": "11081fa8-0358-41d6-d6a0-1ab290ff44dd"
   },
   "outputs": [
    {
     "data": {
      "text/plain": [
       "array([['https://www.huffingtonpost.com/entry/versace-black-code_us_5861fbefe4b0de3a08f600d5',\n",
       "        \"former versace store clerk sues over secret 'black code' for minority shoppers\",\n",
       "        '0'],\n",
       "       ['https://www.huffingtonpost.com/entry/roseanne-revival-review_us_5ab3a497e4b054d118e04365',\n",
       "        \"the 'roseanne' revival catches up to our thorny political mood, for better and worse\",\n",
       "        '0'],\n",
       "       ['https://local.theonion.com/mom-starting-to-fear-son-s-web-series-closest-thing-she-1819576697',\n",
       "        \"mom starting to fear son's web series closest thing she will have to grandchild\",\n",
       "        '1'],\n",
       "       ['https://politics.theonion.com/boehner-just-wants-wife-to-listen-not-come-up-with-alt-1819574302',\n",
       "        'boehner just wants wife to listen, not come up with alternative debt-reduction ideas',\n",
       "        '1'],\n",
       "       ['https://www.huffingtonpost.com/entry/jk-rowling-wishes-snape-happy-birthday_us_569117c4e4b0cad15e64fdcb',\n",
       "        'j.k. rowling wishes snape happy birthday in the most magical way',\n",
       "        '0'],\n",
       "       ['https://www.huffingtonpost.com/entry/advancing-the-worlds-women_b_6810038.html',\n",
       "        \"advancing the world's women\", '0'],\n",
       "       ['https://www.huffingtonpost.com/entry/how-meat-is-grown-in-a-lab_us_561d1189e4b0c5a1ce607e86',\n",
       "        'the fascinating case for eating lab-grown meat', '0'],\n",
       "       ['https://www.huffingtonpost.com/entry/boxed-college-tuition-ben_n_7445644.html',\n",
       "        'this ceo will send your kids to school, if you work for his company',\n",
       "        '0'],\n",
       "       ['https://politics.theonion.com/top-snake-handler-leaves-sinking-huckabee-campaign-1819578231',\n",
       "        'top snake handler leaves sinking huckabee campaign', '1'],\n",
       "       ['https://www.huffingtonpost.com/entry/fridays-morning-email-inside-trumps-presser-for-the-ages_us_58a6e33ee4b07602ad53a315',\n",
       "        \"friday's morning email: inside trump's presser for the ages\",\n",
       "        '0']], dtype='<U272')"
      ]
     },
     "execution_count": 12,
     "metadata": {
      "tags": []
     },
     "output_type": "execute_result"
    }
   ],
   "source": [
    "import json\n",
    "import numpy as np\n",
    "\n",
    "data = []\n",
    "with open('Sarcasm_Headlines_Dataset.json','r') as json_file:\n",
    "    for l in json_file:\n",
    "        data.append(list(json.loads(l).values()))\n",
    "\n",
    "data = np.array(data)\n",
    "x_data = data[:, 1]\n",
    "y_data = data[:, 2]\n",
    "\n",
    "data2 = []\n",
    "with open('Sarcasm_Headlines_Dataset_v2.json','r') as json_file:\n",
    "    for l in json_file:\n",
    "        data2.append(list(json.loads(l).values()))\n",
    "\n",
    "data2 = np.array(data2)\n",
    "x2_data = data2[:, 1]\n",
    "y2_data = data2[:, 0]\n",
    "\n",
    "data[:10]"
   ]
  },
  {
   "cell_type": "code",
   "execution_count": 11,
   "metadata": {
    "colab": {
     "base_uri": "https://localhost:8080/"
    },
    "id": "zNI9xM_XsGnN",
    "outputId": "7430de52-09f0-4213-a683-dac8a464167a"
   },
   "outputs": [
    {
     "data": {
      "text/plain": [
       "array([['1',\n",
       "        'thirtysomething scientists unveil doomsday clock of hair loss',\n",
       "        'https://www.theonion.com/thirtysomething-scientists-unveil-doomsday-clock-of-hai-1819586205'],\n",
       "       ['0',\n",
       "        'dem rep. totally nails why congress is falling short on gender, racial equality',\n",
       "        'https://www.huffingtonpost.com/entry/donna-edwards-inequality_us_57455f7fe4b055bb1170b207'],\n",
       "       ['0', 'eat your veggies: 9 deliciously different recipes',\n",
       "        'https://www.huffingtonpost.com/entry/eat-your-veggies-9-delici_b_8899742.html'],\n",
       "       ['1', 'inclement weather prevents liar from getting to work',\n",
       "        'https://local.theonion.com/inclement-weather-prevents-liar-from-getting-to-work-1819576031'],\n",
       "       ['1',\n",
       "        \"mother comes pretty close to using word 'streaming' correctly\",\n",
       "        'https://www.theonion.com/mother-comes-pretty-close-to-using-word-streaming-cor-1819575546'],\n",
       "       ['0', 'my white inheritance',\n",
       "        'https://www.huffingtonpost.com/entry/my-white-inheritance_us_59230747e4b07617ae4cbe1a'],\n",
       "       ['0', '5 ways to file your taxes with less stress',\n",
       "        'https://www.huffingtonpost.com/entry/5-ways-to-file-your-taxes_b_6957316.html'],\n",
       "       ['1',\n",
       "        \"richard branson's global-warming donation nearly as much as cost of failed balloon trips\",\n",
       "        'https://www.theonion.com/richard-bransons-global-warming-donation-nearly-as-much-1819568749'],\n",
       "       ['1',\n",
       "        'shadow government getting too large to meet in marriott conference room b',\n",
       "        'https://politics.theonion.com/shadow-government-getting-too-large-to-meet-in-marriott-1819570731'],\n",
       "       ['0', 'lots of parents know this scenario',\n",
       "        'https://www.huffingtonpost.comhttp://pubx.co/6IXxhm']],\n",
       "      dtype='<U926')"
      ]
     },
     "execution_count": 11,
     "metadata": {
      "tags": []
     },
     "output_type": "execute_result"
    }
   ],
   "source": [
    "data2[:10]"
   ]
  },
  {
   "cell_type": "code",
   "execution_count": 13,
   "metadata": {
    "id": "1L4gs-W5sqK4"
   },
   "outputs": [],
   "source": [
    "x_data = np.concatenate((x_data, x2_data))\n",
    "y_data = np.concatenate((y_data, y2_data))"
   ]
  },
  {
   "cell_type": "code",
   "execution_count": 14,
   "metadata": {
    "colab": {
     "base_uri": "https://localhost:8080/"
    },
    "id": "i2VsMUU2rJjJ",
    "outputId": "4979c110-0562-44a6-8f96-b535cdad5d72"
   },
   "outputs": [
    {
     "data": {
      "text/plain": [
       "(55328,)"
      ]
     },
     "execution_count": 14,
     "metadata": {
      "tags": []
     },
     "output_type": "execute_result"
    }
   ],
   "source": [
    "x_data.shape"
   ]
  },
  {
   "cell_type": "code",
   "execution_count": 15,
   "metadata": {
    "colab": {
     "base_uri": "https://localhost:8080/"
    },
    "id": "1vfeJrn7jq5t",
    "outputId": "4572e0ac-a0f6-423e-b1f1-658a64e096fa"
   },
   "outputs": [
    {
     "data": {
      "text/plain": [
       "array(['0', '0', '1', ..., '0', '1', '1'], dtype='<U926')"
      ]
     },
     "execution_count": 15,
     "metadata": {
      "tags": []
     },
     "output_type": "execute_result"
    }
   ],
   "source": [
    "y_data"
   ]
  },
  {
   "cell_type": "code",
   "execution_count": 16,
   "metadata": {
    "colab": {
     "base_uri": "https://localhost:8080/"
    },
    "id": "1Em69uWEjz0e",
    "outputId": "ffb9816b-7b85-486e-e767-0731d5a318cb"
   },
   "outputs": [
    {
     "data": {
      "text/plain": [
       "array([0, 0, 1, ..., 0, 1, 1], dtype=uint8)"
      ]
     },
     "execution_count": 16,
     "metadata": {
      "tags": []
     },
     "output_type": "execute_result"
    }
   ],
   "source": [
    "y_data = y_data.astype(np.uint8)\n",
    "y_data"
   ]
  },
  {
   "cell_type": "code",
   "execution_count": 17,
   "metadata": {
    "id": "EVln3k9XkcHI"
   },
   "outputs": [],
   "source": [
    "t = Tokenizer()\n",
    "t.fit_on_texts(x_data)\n",
    "x_tokenized = t.texts_to_sequences(x_data)"
   ]
  },
  {
   "cell_type": "code",
   "execution_count": 18,
   "metadata": {
    "colab": {
     "base_uri": "https://localhost:8080/"
    },
    "id": "50fXZGBSnQ59",
    "outputId": "5ed433e0-4480-464b-c808-5b164c749bd6"
   },
   "outputs": [
    {
     "name": "stdout",
     "output_type": "stream",
     "text": [
      "Longest headline: 152 Shortest headline: 2\n"
     ]
    }
   ],
   "source": [
    "lengths = [len(headline) for headline in x_tokenized]\n",
    "print('Longest headline: {} Shortest headline: {}'.format(max(lengths), min(lengths)))"
   ]
  },
  {
   "cell_type": "code",
   "execution_count": 19,
   "metadata": {
    "colab": {
     "base_uri": "https://localhost:8080/",
     "height": 333
    },
    "id": "UfxqI9kgqCIe",
    "outputId": "b773f1e8-36bb-4cba-d827-d819942289a3"
   },
   "outputs": [
    {
     "data": {
      "text/plain": [
       "(array([5.3518e+04, 1.8030e+03, 6.0000e+00, 0.0000e+00, 0.0000e+00,\n",
       "        0.0000e+00, 0.0000e+00, 0.0000e+00, 0.0000e+00, 1.0000e+00]),\n",
       " array([  2.,  17.,  32.,  47.,  62.,  77.,  92., 107., 122., 137., 152.]),\n",
       " <a list of 10 Patch objects>)"
      ]
     },
     "execution_count": 19,
     "metadata": {
      "tags": []
     },
     "output_type": "execute_result"
    },
    {
     "data": {
      "image/png": "[encoded data removed]",
      "text/plain": [
       "<Figure size 432x288 with 1 Axes>"
      ]
     },
     "metadata": {
      "needs_background": "light",
      "tags": []
     },
     "output_type": "display_data"
    }
   ],
   "source": [
    "import matplotlib\n",
    "matplotlib.pyplot.hist(lengths)"
   ]
  },
  {
   "cell_type": "code",
   "execution_count": 22,
   "metadata": {
    "colab": {
     "base_uri": "https://localhost:8080/"
    },
    "id": "NKROGz-2p1ks",
    "outputId": "50e02d7f-372a-4cff-d834-c92aac0213de"
   },
   "outputs": [
    {
     "name": "stdout",
     "output_type": "stream",
     "text": [
      "4936 headlines out of 55328 are over 14.\n"
     ]
    }
   ],
   "source": [
    "cutoff = 14\n",
    "print('{} headlines out of {} are over {}.'.format(\n",
    "    sum([1 for length in lengths if length > cutoff]), \n",
    "    len(lengths), \n",
    "    cutoff))"
   ]
  },
  {
   "cell_type": "code",
   "execution_count": 23,
   "metadata": {
    "id": "wf3fuwf-qdQU"
   },
   "outputs": [],
   "source": [
    "x_train, x_test, y_train, y_test = train_test_split(x_tokenized, y_data, test_size=0.3, random_state=42)"
   ]
  },
  {
   "cell_type": "code",
   "execution_count": 24,
   "metadata": {
    "id": "t2Gf2XtVqaxs"
   },
   "outputs": [],
   "source": [
    "x_train_padded = sequence.pad_sequences(x_train, maxlen=cutoff)\n",
    "x_test_padded = sequence.pad_sequences(x_test, maxlen=cutoff)"
   ]
  },
  {
   "cell_type": "code",
   "execution_count": 25,
   "metadata": {
    "id": "GsS2u3cxq1Tn"
   },
   "outputs": [],
   "source": [
    "model = Sequential()\n",
    "model.add(Embedding(input_dim=len(x_train), output_dim=100, input_length=cutoff))\n",
    "model.add(Conv1D(filters=32, kernel_size=5, activation='relu'))\n",
    "model.add(Conv1D(filters=32, kernel_size=5, activation='relu'))\n",
    "model.add(Flatten())\n",
    "model.add(Dense(units=128, activation='relu'))\n",
    "model.add(Dense(units=1, activation='sigmoid'))\n",
    "model.compile(loss='binary_crossentropy', optimizer='adam', metrics=['binary_accuracy'])"
   ]
  },
  {
   "cell_type": "code",
   "execution_count": 28,
   "metadata": {
    "colab": {
     "base_uri": "https://localhost:8080/"
    },
    "id": "fXzVoMRyrcdE",
    "outputId": "7ec5c5bf-a728-42a1-d3f3-ee566241ad0e"
   },
   "outputs": [
    {
     "name": "stdout",
     "output_type": "stream",
     "text": [
      "606/606 [==============================] - 22s 36ms/step - loss: 0.0514 - binary_accuracy: 0.9831\n"
     ]
    }
   ],
   "source": [
    "# Train using GPU acceleration\n",
    "# (see https://colab.research.google.com/notebooks/gpu.ipynb#scrollTo=Y04m-jvKRDsJ)\n",
    "device_name = test.gpu_device_name()\n",
    "if device_name != '/device:GPU:0':\n",
    "    print(\n",
    "        '\\n\\nThis error most likely means that this notebook is not '\n",
    "        'configured to use a GPU.  Change this in Notebook Settings via the '\n",
    "        'command palette (cmd/ctrl-shift-P) or the Edit menu.\\n\\n')\n",
    "    raise SystemError('GPU device not found')\n",
    "\n",
    "with device('/device:GPU:0'):\n",
    "    model.fit(x_train_padded, y_train, epochs=1, batch_size=64)  # 2 total epochs"
   ]
  },
  {
   "cell_type": "code",
   "execution_count": 27,
   "metadata": {
    "colab": {
     "base_uri": "https://localhost:8080/"
    },
    "id": "mFpkHfEHtNmj",
    "outputId": "bc9291a5-b810-4516-85e6-81ee3a6a2dee"
   },
   "outputs": [
    {
     "name": "stdout",
     "output_type": "stream",
     "text": [
      "519/519 [==============================] - 1s 2ms/step - loss: 0.1714 - binary_accuracy: 0.9371\n",
      "loss: 0.17136408388614655 accuracy: 0.9371046423912048\n"
     ]
    }
   ],
   "source": [
    "with device('/device:GPU:0'):\n",
    "    scores = model.evaluate(x_test_padded, y_test)\n",
    "print('loss: {} accuracy: {}'.format(*scores))  # post epoch 1"
   ]
  },
  {
   "cell_type": "code",
   "execution_count": 29,
   "metadata": {
    "colab": {
     "base_uri": "https://localhost:8080/"
    },
    "id": "n18in4h8tgFE",
    "outputId": "1078a3ef-2cb0-4e7e-82a8-e8333f18f142"
   },
   "outputs": [
    {
     "name": "stdout",
     "output_type": "stream",
     "text": [
      "519/519 [==============================] - 1s 2ms/step - loss: 0.1606 - binary_accuracy: 0.9490\n",
      "loss: 0.16059787571430206 accuracy: 0.9490330815315247\n"
     ]
    }
   ],
   "source": [
    "with device('/device:GPU:0'):\n",
    "    scores = model.evaluate(x_test_padded, y_test)\n",
    "print('loss: {} accuracy: {}'.format(*scores))  # post epoch 2"
   ]
  },
  {
   "cell_type": "code",
   "execution_count": 41,
   "metadata": {
    "colab": {
     "base_uri": "https://localhost:8080/"
    },
    "id": "cGqEFsFVvxuX",
    "outputId": "93c28a82-51c9-4d0f-d981-e3f678bf12e5"
   },
   "outputs": [
    {
     "data": {
      "text/plain": [
       "(array([0.93556395, 0.96604854]),\n",
       " array([0.97207581, 0.92228586]),\n",
       " array([0.95347047, 0.9436601 ]),\n",
       " array([8917, 7682]))"
      ]
     },
     "execution_count": 41,
     "metadata": {
      "tags": []
     },
     "output_type": "execute_result"
    }
   ],
   "source": [
    "predictions_test_onehot = model.predict(x_test_padded)\n",
    "predictions_test = np.round(predictions_test_onehot)  # use round not argmax\n",
    "precision_recall_fscore_support(y_true=y_test, y_pred=predictions_test)"
   ]
  },
  {
   "cell_type": "markdown",
   "metadata": {
    "id": "ycms9qG9w5pj"
   },
   "source": [
    "This was surprisingly super accurate. I guess machine learning is powerful enough even to distinguish between fact and satire.\n",
    "\n",
    "Let's test it on some recent theonion.com headlines."
   ]
  },
  {
   "cell_type": "code",
   "execution_count": 42,
   "metadata": {
    "colab": {
     "base_uri": "https://localhost:8080/"
    },
    "id": "Dtru1h9XuJE6",
    "outputId": "c706b6d0-10ac-4bb1-8ed8-8412e8afecfb"
   },
   "outputs": [
    {
     "data": {
      "text/plain": [
       "array([[ 4128, 15021,   451, 11249,     4,    11,   283,    85,    71,\n",
       "         1688,   786,  1093,     1,  3095]], dtype=int32)"
      ]
     },
     "execution_count": 42,
     "metadata": {
      "tags": []
     },
     "output_type": "execute_result"
    }
   ],
   "source": [
    "headline = t.texts_to_sequences(['Arkansas Legislator Warns Loophole In New Law Could Still Allow Trans Youth To Exist'])\n",
    "headline = sequence.pad_sequences(headline, maxlen=cutoff)\n",
    "headline"
   ]
  },
  {
   "cell_type": "code",
   "execution_count": 43,
   "metadata": {
    "colab": {
     "base_uri": "https://localhost:8080/"
    },
    "id": "p6XO11aDuga7",
    "outputId": "8fc0d6b2-ec7e-41c5-e8d5-8f22db122ab2"
   },
   "outputs": [
    {
     "data": {
      "text/plain": [
       "array([[0.00344038]], dtype=float32)"
      ]
     },
     "execution_count": 43,
     "metadata": {
      "tags": []
     },
     "output_type": "execute_result"
    }
   ],
   "source": [
    "model.predict(headline)"
   ]
  },
  {
   "cell_type": "markdown",
   "metadata": {
    "id": "e7MeSWAKxVpf"
   },
   "source": [
    "Hmm that one didn't work out"
   ]
  },
  {
   "cell_type": "code",
   "execution_count": 34,
   "metadata": {
    "colab": {
     "base_uri": "https://localhost:8080/"
    },
    "id": "hx9pioSHu6Vj",
    "outputId": "ee745fbe-021a-4eee-cd4f-26728e514b75"
   },
   "outputs": [
    {
     "data": {
      "text/plain": [
       "array([[0.97353303]], dtype=float32)"
      ]
     },
     "execution_count": 34,
     "metadata": {
      "tags": []
     },
     "output_type": "execute_result"
    }
   ],
   "source": [
    "headline = t.texts_to_sequences(['U.S. Criticized For Giving $1 Trillion To Military Contractor To Develop Hat That Didn’t Work'])\n",
    "headline = sequence.pad_sequences(headline, maxlen=cutoff)\n",
    "model.predict(headline)"
   ]
  },
  {
   "cell_type": "code",
   "execution_count": 35,
   "metadata": {
    "colab": {
     "base_uri": "https://localhost:8080/"
    },
    "id": "m-qbFxg-vXz4",
    "outputId": "d1ed29ef-2508-4cbe-9ccf-90428f1bd210"
   },
   "outputs": [
    {
     "data": {
      "text/plain": [
       "array([[0.84556895]], dtype=float32)"
      ]
     },
     "execution_count": 35,
     "metadata": {
      "tags": []
     },
     "output_type": "execute_result"
    }
   ],
   "source": [
    "headline = t.texts_to_sequences(['Billboard With Happy Family Inspires Estranged Dad To Almost Call Kids'])\n",
    "headline = sequence.pad_sequences(headline, maxlen=cutoff)\n",
    "model.predict(headline)"
   ]
  },
  {
   "cell_type": "markdown",
   "metadata": {
    "id": "SUptJEawxc9D"
   },
   "source": [
    "But these two did."
   ]
  }
 ],
 "metadata": {
  "accelerator": "GPU",
  "colab": {
   "collapsed_sections": [],
   "name": "SarcasmDetection.ipynb",
   "provenance": []
  },
  "kernelspec": {
   "display_name": "Python 3",
   "language": "python",
   "name": "python3"
  },
  "language_info": {
   "codemirror_mode": {
    "name": "ipython",
    "version": 3
   },
   "file_extension": ".py",
   "mimetype": "text/x-python",
   "name": "python",
   "nbconvert_exporter": "python",
   "pygments_lexer": "ipython3",
   "version": "3.8.5"
  }
 },
 "nbformat": 4,
 "nbformat_minor": 1
}
