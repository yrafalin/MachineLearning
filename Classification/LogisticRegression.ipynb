{
 "cells": [
  {
   "cell_type": "markdown",
   "metadata": {},
   "source": [
    "# Logistic Regression with Synthetic Data\n",
    "\n",
    "For more explanation of logistic regression, see\n",
    "1. [Our course notes](https://jennselby.github.io/MachineLearningCourseNotes/#binomial-logistic-regression)\n",
    "1. [This scikit-learn explanation](http://scikit-learn.org/stable/modules/linear_model.html#logistic-regression)\n",
    "1. [The full scikit-learn documentation of the LogisticRegression model class](http://scikit-learn.org/stable/modules/generated/sklearn.linear_model.LogisticRegression.html)\n",
    "\n",
    "## Instructions\n",
    "0. If you haven't already, follow [the setup instructions here](https://jennselby.github.io/MachineLearningCourseNotes/#setting-up-python3) to get all necessary software installed.\n",
    "0. Read through the code in the following sections:\n",
    "  * [Data Generation](#Data-Generation)\n",
    "  * [Visualization](#Visualization)\n",
    "  * [Model Training](#Model-Training)\n",
    "  * [Prediction](#Prediction)\n",
    "0. Complete at least one of the exercise options:\n",
    "  * [Exercise Option #1 - Standard Difficulty](#Exercise-Option-#1---Standard-Difficulty)\n",
    "  * [Exercise Option #2 - Advanced Difficulty](#Exercise-Option-#2---Advanced-Difficulty)\n",
    "  * [Exercise Option #3 - Advanced Difficulty](#Exercise-Option-#3---Advanced-Difficulty)"
   ]
  },
  {
   "cell_type": "code",
   "execution_count": 1,
   "metadata": {},
   "outputs": [],
   "source": [
    "import numpy.random # for generating our dataset\n",
    "from sklearn import linear_model # for fitting our model\n",
    "\n",
    "# force numpy not to use scientific notation, to make it easier to read the numbers the program prints out\n",
    "numpy.set_printoptions(suppress=True)\n",
    "\n",
    "# to display graphs in this notebook\n",
    "%matplotlib inline\n",
    "import matplotlib.pyplot"
   ]
  },
  {
   "cell_type": "markdown",
   "metadata": {},
   "source": [
    "## Data Generation\n",
    "\n",
    "As we did in the [linear regression notebook](https://nbviewer.jupyter.org/github/jennselby/MachineLearningCourseNotes/blob/master/assets/ipynb/LinearRegression.ipynb), we will be generating some fake data.\n",
    "\n",
    "In this fake dataset, we have two types of plants.\n",
    "* Plant A tends to be taller (average 60cm) and thinner (average 8cm).\n",
    "* Plant B tends to be shorter (average 58cm) and wider (average 10cm).\n",
    "* The heights and diameters of both plants are normally distributed (they follow a bell curve).\n",
    "\n",
    "* Class 0 will represent Plant A and Class 1 will represent Plant B"
   ]
  },
  {
   "cell_type": "code",
   "execution_count": 189,
   "metadata": {},
   "outputs": [],
   "source": [
    "NUM_INPUTS = 50 # inputs per class\n",
    "PLANT_A_AVG_HEIGHT = 59.0\n",
    "PLANT_A_AVG_WIDTH = 9.0\n",
    "PLANT_B_AVG_HEIGHT = 58.0\n",
    "PLANT_B_AVG_WIDTH = 10.0\n",
    "\n",
    "# Pick numbers randomly with a normal distribution centered around the averages\n",
    "\n",
    "plant_a_heights = numpy.random.normal(loc=PLANT_A_AVG_HEIGHT, size=NUM_INPUTS)\n",
    "plant_a_widths = numpy.random.normal(loc=PLANT_A_AVG_WIDTH, size=NUM_INPUTS)\n",
    "\n",
    "plant_b_heights = numpy.random.normal(loc=PLANT_B_AVG_HEIGHT, size=NUM_INPUTS)\n",
    "plant_b_widths = numpy.random.normal(loc=PLANT_B_AVG_WIDTH, size=NUM_INPUTS)\n",
    "\n",
    "# this creates a 2-dimensional matrix, with heights in the first column and widths in the second\n",
    "# the first half of rows are all plants of type a and the second half are type b\n",
    "plant_inputs = list(zip(numpy.append(plant_a_heights, plant_b_heights),\n",
    "                        numpy.append(plant_a_widths, plant_b_widths)))\n",
    "\n",
    "# this is a list where the first half are 0s (representing plants of type a) and the second half are 1s (type b)\n",
    "classes = [0]*NUM_INPUTS + [1]*NUM_INPUTS"
   ]
  },
  {
   "cell_type": "markdown",
   "metadata": {},
   "source": [
    "## Visualization\n",
    "\n",
    "Let's visualize our dataset, so that we can better understand what it looks like."
   ]
  },
  {
   "cell_type": "code",
   "execution_count": 190,
   "metadata": {},
   "outputs": [
    {
     "data": {
      "image/png": "[encoded data removed]",
      "text/plain": [
       "<Figure size 432x288 with 1 Axes>"
      ]
     },
     "metadata": {
      "needs_background": "light"
     },
     "output_type": "display_data"
    }
   ],
   "source": [
    "# create a figure and label it\n",
    "fig = matplotlib.pyplot.figure()\n",
    "fig.suptitle('Plant Data Set')\n",
    "matplotlib.pyplot.xlabel('Height')\n",
    "matplotlib.pyplot.ylabel('Width')\n",
    "\n",
    "# put the generated points on the graph\n",
    "a_scatter = matplotlib.pyplot.scatter(plant_a_heights, plant_a_widths, c=\"red\", marker=\"o\", label='plant a')\n",
    "b_scatter = matplotlib.pyplot.scatter(plant_b_heights, plant_b_widths, c=\"blue\", marker=\"^\", label='plant b')\n",
    "\n",
    "# add a legend to explain which points are which\n",
    "matplotlib.pyplot.legend(handles=[a_scatter, b_scatter])\n",
    "\n",
    "# show the graph\n",
    "matplotlib.pyplot.show()"
   ]
  },
  {
   "cell_type": "markdown",
   "metadata": {},
   "source": [
    "## Model Training\n",
    "\n",
    "Next, we want to fit our logistic regression model to our dataset."
   ]
  },
  {
   "cell_type": "code",
   "execution_count": 191,
   "metadata": {},
   "outputs": [
    {
     "name": "stdout",
     "output_type": "stream",
     "text": [
      "Intercept: [53.63177331]  Coefficients: [[-0.99863978  0.49111791]]\n"
     ]
    }
   ],
   "source": [
    "model = linear_model.LogisticRegression()\n",
    "model.fit(plant_inputs, classes)\n",
    "\n",
    "print('Intercept: {0}  Coefficients: {1}'.format(model.intercept_, model.coef_))"
   ]
  },
  {
   "cell_type": "markdown",
   "metadata": {},
   "source": [
    "## Prediction\n",
    "\n",
    "Now we can make some predictions using the trained model. Note that we are generating the new data exactly the same way that we generated the training data above."
   ]
  },
  {
   "cell_type": "code",
   "execution_count": 197,
   "metadata": {},
   "outputs": [
    {
     "name": "stdout",
     "output_type": "stream",
     "text": [
      "[1 0 0 0 0 1 0 0 0 0 0 0 0 0 0 0 1 0 0 0 1 0 0 0 0 0 1 0 0 1 0 0 1 0 0 0 0\n",
      " 0 0 0 0 0 0 0 0 0 1 1 0 0]\n",
      "[1 0 1 1 1 1 1 1 1 1 1 1 1 1 0 1 1 1 0 1 1 1 1 1 1 1 1 0 1 1 1 1 1 0 1 0 1\n",
      " 0 1 0 1 0 0 1 1 1 0 1 0 1]\n",
      "Class predictions: [1 0 0 0 0 1 0 0 0 0 0 0 0 0 0 0 1 0 0 0 1 0 0 0 0 0 1 0 0 1 0 0 1 0 0 0 0\n",
      " 0 0 0 0 0 0 0 0 0 1 1 0 0 1 0 1 1 1 1 1 1 1 1 1 1 1 1 0 1 1 1 0 1 1 1 1 1\n",
      " 1 1 1 0 1 1 1 1 1 0 1 0 1 0 1 0 1 0 0 1 1 1 0 1 0 1]\n",
      "Probabilities:\n",
      "[[0.04201862 0.95798138]\n",
      " [0.54584983 0.45415017]\n",
      " [0.81741318 0.18258682]\n",
      " [0.90488504 0.09511496]\n",
      " [0.83363954 0.16636046]\n",
      " [0.40642633 0.59357367]\n",
      " [0.87350997 0.12649003]\n",
      " [0.70948713 0.29051287]\n",
      " [0.65121575 0.34878425]\n",
      " [0.83551117 0.16448883]\n",
      " [0.62830858 0.37169142]\n",
      " [0.66751492 0.33248508]\n",
      " [0.72042839 0.27957161]\n",
      " [0.90465266 0.09534734]\n",
      " [0.72638344 0.27361656]\n",
      " [0.87726789 0.12273211]\n",
      " [0.42175001 0.57824999]\n",
      " [0.80193552 0.19806448]\n",
      " [0.81390921 0.18609079]\n",
      " [0.53129449 0.46870551]\n",
      " [0.39953572 0.60046428]\n",
      " [0.82586391 0.17413609]\n",
      " [0.92118341 0.07881659]\n",
      " [0.61091582 0.38908418]\n",
      " [0.83427447 0.16572553]\n",
      " [0.81527249 0.18472751]\n",
      " [0.1688166  0.8311834 ]\n",
      " [0.73121498 0.26878502]\n",
      " [0.57614738 0.42385262]\n",
      " [0.25292135 0.74707865]\n",
      " [0.55021343 0.44978657]\n",
      " [0.95037953 0.04962047]\n",
      " [0.43293953 0.56706047]\n",
      " [0.77053135 0.22946865]\n",
      " [0.89845419 0.10154581]\n",
      " [0.95479587 0.04520413]\n",
      " [0.54191648 0.45808352]\n",
      " [0.85607099 0.14392901]\n",
      " [0.75637938 0.24362062]\n",
      " [0.91877645 0.08122355]\n",
      " [0.50975325 0.49024675]\n",
      " [0.94169003 0.05830997]\n",
      " [0.70807391 0.29192609]\n",
      " [0.51616167 0.48383833]\n",
      " [0.71938942 0.28061058]\n",
      " [0.65311376 0.34688624]\n",
      " [0.38917927 0.61082073]\n",
      " [0.25892533 0.74107467]\n",
      " [0.57256143 0.42743857]\n",
      " [0.89115034 0.10884966]\n",
      " [0.36325758 0.63674242]\n",
      " [0.7900998  0.2099002 ]\n",
      " [0.04462109 0.95537891]\n",
      " [0.26620138 0.73379862]\n",
      " [0.24959843 0.75040157]\n",
      " [0.41870566 0.58129434]\n",
      " [0.33227151 0.66772849]\n",
      " [0.33115699 0.66884301]\n",
      " [0.12278179 0.87721821]\n",
      " [0.19707054 0.80292946]\n",
      " [0.30177677 0.69822323]\n",
      " [0.45227425 0.54772575]\n",
      " [0.33596513 0.66403487]\n",
      " [0.11110143 0.88889857]\n",
      " [0.73391732 0.26608268]\n",
      " [0.15608657 0.84391343]\n",
      " [0.26752115 0.73247885]\n",
      " [0.10208142 0.89791858]\n",
      " [0.96085515 0.03914485]\n",
      " [0.48677577 0.51322423]\n",
      " [0.17332617 0.82667383]\n",
      " [0.08969818 0.91030182]\n",
      " [0.47911434 0.52088566]\n",
      " [0.32760068 0.67239932]\n",
      " [0.40946268 0.59053732]\n",
      " [0.11790781 0.88209219]\n",
      " [0.19407995 0.80592005]\n",
      " [0.63159602 0.36840398]\n",
      " [0.25406263 0.74593737]\n",
      " [0.22274676 0.77725324]\n",
      " [0.06272904 0.93727096]\n",
      " [0.29999485 0.70000515]\n",
      " [0.20623012 0.79376988]\n",
      " [0.68467959 0.31532041]\n",
      " [0.20267654 0.79732346]\n",
      " [0.61136109 0.38863891]\n",
      " [0.09400998 0.90599002]\n",
      " [0.70291679 0.29708321]\n",
      " [0.39036268 0.60963732]\n",
      " [0.54765927 0.45234073]\n",
      " [0.43805088 0.56194912]\n",
      " [0.69526915 0.30473085]\n",
      " [0.57701012 0.42298988]\n",
      " [0.07985622 0.92014378]\n",
      " [0.36668705 0.63331295]\n",
      " [0.1135125  0.8864875 ]\n",
      " [0.55033398 0.44966602]\n",
      " [0.19066624 0.80933376]\n",
      " [0.63459586 0.36540414]\n",
      " [0.21796573 0.78203427]]\n"
     ]
    }
   ],
   "source": [
    "# Generate some new random values for two plants, one of each class\n",
    "new_a_height = numpy.random.normal(loc=PLANT_A_AVG_HEIGHT, size=50)\n",
    "new_a_width = numpy.random.normal(loc=PLANT_A_AVG_WIDTH, size=50)\n",
    "new_b_height = numpy.random.normal(loc=PLANT_B_AVG_HEIGHT, size=50)\n",
    "new_b_width = numpy.random.normal(loc=PLANT_B_AVG_WIDTH, size=50)\n",
    "\n",
    "# Pull the values into a matrix, because that is what the predict function wants\n",
    "#inputs = [[new_a_height, new_a_width], [new_b_height, new_b_width]]\n",
    "inputs = list(zip(numpy.append(new_a_height, new_b_height), numpy.append(new_a_width, new_b_width)))\n",
    "\n",
    "# Print out the outputs for these new inputs\n",
    "#print('Plant A: {0} {1}'.format(new_a_height, new_a_width))\n",
    "#print('Plant B: {0} {1}'.format(new_b_height, new_b_width))\n",
    "prediction = model.predict(inputs)\n",
    "print(prediction[:50])\n",
    "print(prediction[50:])\n",
    "print('Class predictions: {0}'.format(prediction)) # guess which class\n",
    "print('Probabilities:\\n{0}'.format(model.predict_proba(inputs))) # give probability of each class"
   ]
  },
  {
   "cell_type": "markdown",
   "metadata": {},
   "source": [
    "# Exercise Option #1 - Standard Difficulty\n",
    "\n",
    "Answer the following questions. You can also use the graph below, if seeing the data visually helps you understand the data.\n",
    "1. What should we be expecting as the output for class predictions in the above cell? If the model is not giving the expected output, what are some of the reasons it might not be?\n",
    "1. How do the probabilities output by the above cell relate to the class predictions? Why do you think the model might be more or less confident in its predictions?\n",
    "1. If you change the averages in the data generation code (like PLANT_A_AVG_HEIGHT) and re-run the code, how do the predictions change, and why?\n",
    "1. Looking at the intercept and coefficient output further above, if a coefficient is negative, what has the model learned about this feature? In other words, if you took a datapoint and you increased the value of a feature that has a negative coefficient, what would you expect to happen to the probabilities the model gives this datapoint?"
   ]
  },
  {
   "cell_type": "markdown",
   "metadata": {},
   "source": [
    "1. 0, 1. Most likely it is because one or more of the characteristics of the plant are beyond the cutoff that the model sets, so it is considered to be in the other class. For example one time I saw that the plant B had a height of 59.8 and plant A had 59, which are both totally reasonable values, but impossible for the model to distinguish between.\n",
    "2. The probability which is higher determines how the model will classify a given point. It is less confident the closer a point is to the cutoff because on that line, the probabilities are 50 50.\n",
    "3. (I changed the cell above so it creates 100 data points, and is split down the middle so it is easier to count) Before changing the averages, I noticed that the model was 4% wrong. After changing the plant A average height to 62, the model was 2% wrong. When I changed plant A average height to 59, the model was 6% wrong. Lastly, when I change the plant A average height to 59 and plant A average width to 9, we had an error rate of 16%. This shows that the closer the averages of the classes are, the higher the error rate will be.\n",
    "4. A negative coefficient means the model finds the parameter is inversely correlated with a certain class, so the higher that parameter is, the lower the probability it will be in that class. In this case, the first coefficient is negative, meaning the model thinks that bigger height (the first parameter) will mean a data point is less likely to be in class B, which the model is classifying for (as it is a 1)."
   ]
  },
  {
   "cell_type": "markdown",
   "metadata": {},
   "source": [
    "# Exercise Option #2 - Advanced Difficulty\n",
    "\n",
    "The plot above is only showing the data, and not anything about what the model learned. Come up with some ideas for how to show the model fit and implement one of them in code. Remember, we are here to help if you are not sure how to write the code for your ideas!"
   ]
  },
  {
   "cell_type": "code",
   "execution_count": 9,
   "metadata": {},
   "outputs": [],
   "source": [
    "MIN_X = 55\n",
    "MAX_X = 63\n",
    "MIN_Y = 5\n",
    "MAX_Y = 13"
   ]
  },
  {
   "cell_type": "code",
   "execution_count": 56,
   "metadata": {},
   "outputs": [],
   "source": [
    "def plot_areas_of_guess(model, xa, ya, xb, yb):\n",
    "    fig = matplotlib.pyplot.figure()\n",
    "    fig.suptitle('Plant Data Set')\n",
    "    matplotlib.pyplot.xlabel('Height')\n",
    "    matplotlib.pyplot.ylabel('Width')\n",
    "    \n",
    "    #x = numpy.linspace(MIN_X, MAX_X)\n",
    "    #y = numpy.linspace(MIN_Y, MAX_Y)\n",
    "    #xp, yp = numpy.meshgrid(x, y) https://numpy.org/doc/stable/reference/generated/numpy.meshgrid.html\n",
    "    xp, yp = numpy.mgrid[MIN_X:MAX_X:100j, MIN_Y:MAX_Y:100j]  # mgrid is like 2d linspace; https://stackoverflow.com/questions/32208359/is-there-a-multi-dimensional-version-of-arange-linspace-in-numpy\n",
    "    xp = xp.flatten(order='F')\n",
    "    yp = yp.flatten(order='F')\n",
    "    \n",
    "    predictions = model.predict(list(zip(xp, yp)))  # do the prediction for each point in the mgrid\n",
    "    \n",
    "    xap = xp[predictions==0]  # separate the a and b predictions\n",
    "    yap = yp[predictions==0]\n",
    "    xbp = xp[predictions==1]\n",
    "    ybp = yp[predictions==1]\n",
    "    \n",
    "    matplotlib.pyplot.plot(xap, yap, c=\"pink\", zorder=1)  # allow comparison to actual a and b class points\n",
    "    matplotlib.pyplot.plot(xbp, ybp, c=\"turquoise\", zorder=1)\n",
    "    \n",
    "    a_scatter = matplotlib.pyplot.scatter(xa, ya, c=\"red\", marker=\"o\", label='a', zorder=2)  # zorder brings it to front\n",
    "    b_scatter = matplotlib.pyplot.scatter(xb, yb, c=\"blue\", marker=\"^\", label='b', zorder=2)\n",
    "\n",
    "    matplotlib.pyplot.legend(handles=[a_scatter, b_scatter])\n",
    "\n",
    "    matplotlib.pyplot.show()"
   ]
  },
  {
   "cell_type": "code",
   "execution_count": 57,
   "metadata": {},
   "outputs": [
    {
     "data": {
      "image/png": "[encoded data removed]",
      "text/plain": [
       "<Figure size 432x288 with 1 Axes>"
      ]
     },
     "metadata": {
      "needs_background": "light"
     },
     "output_type": "display_data"
    }
   ],
   "source": [
    "plot_areas_of_guess(model, plant_a_heights, plant_a_widths, plant_b_heights, plant_b_widths)"
   ]
  },
  {
   "cell_type": "markdown",
   "metadata": {},
   "source": [
    "This shows very clearly how the model determines how to classify whether a point is in class a or b: based on what area of the 2d space a point lies"
   ]
  },
  {
   "cell_type": "markdown",
   "metadata": {},
   "source": [
    "# Exercise Option #3 - Advanced Difficulty\n",
    "\n",
    "If you have more than two classes, you can use multinomial logistic regression or the one vs. rest technique, where you use a binomial logistic regression for each class that you have and decide if it is or is not in that class. Try expanding the program with a third type and implementing your own one vs. rest models. To test if this is working, compare your output to running your expanded dataset through scikit-learn, which will automatically do one vs. rest if there are more than two classes."
   ]
  },
  {
   "cell_type": "code",
   "execution_count": null,
   "metadata": {},
   "outputs": [],
   "source": []
  }
 ],
 "metadata": {
  "kernelspec": {
   "display_name": "Python 3",
   "language": "python",
   "name": "python3"
  },
  "language_info": {
   "codemirror_mode": {
    "name": "ipython",
    "version": 3
   },
   "file_extension": ".py",
   "mimetype": "text/x-python",
   "name": "python",
   "nbconvert_exporter": "python",
   "pygments_lexer": "ipython3",
   "version": "3.8.5"
  }
 },
 "nbformat": 4,
 "nbformat_minor": 2
}
