{
 "cells": [
  {
   "cell_type": "markdown",
   "metadata": {},
   "source": [
    "# Logistic Regression with Synthetic Data\n",
    "\n",
    "For more explanation of logistic regression, see\n",
    "1. [Our course notes](https://jennselby.github.io/MachineLearningCourseNotes/#binomial-logistic-regression)\n",
    "1. [This scikit-learn explanation](http://scikit-learn.org/stable/modules/linear_model.html#logistic-regression)\n",
    "1. [The full scikit-learn documentation of the LogisticRegression model class](http://scikit-learn.org/stable/modules/generated/sklearn.linear_model.LogisticRegression.html)\n",
    "\n",
    "## Instructions\n",
    "0. If you haven't already, follow [the setup instructions here](https://jennselby.github.io/MachineLearningCourseNotes/#setting-up-python3) to get all necessary software installed.\n",
    "0. Read through the code in the following sections:\n",
    "  * [Data Generation](#Data-Generation)\n",
    "  * [Visualization](#Visualization)\n",
    "  * [Model Training](#Model-Training)\n",
    "  * [Prediction](#Prediction)\n",
    "0. Complete at least one of the exercise options:\n",
    "  * [Exercise Option #1 - Standard Difficulty](#Exercise-Option-#1---Standard-Difficulty)\n",
    "  * [Exercise Option #2 - Advanced Difficulty](#Exercise-Option-#2---Advanced-Difficulty)\n",
    "  * [Exercise Option #3 - Advanced Difficulty](#Exercise-Option-#3---Advanced-Difficulty)"
   ]
  },
  {
   "cell_type": "code",
   "execution_count": 2,
   "metadata": {},
   "outputs": [],
   "source": [
    "import numpy.random # for generating our dataset\n",
    "from sklearn import linear_model # for fitting our model\n",
    "\n",
    "# force numpy not to use scientific notation, to make it easier to read the numbers the program prints out\n",
    "numpy.set_printoptions(suppress=True)\n",
    "\n",
    "# to display graphs in this notebook\n",
    "%matplotlib inline\n",
    "import matplotlib.pyplot"
   ]
  },
  {
   "cell_type": "markdown",
   "metadata": {},
   "source": [
    "## Data Generation\n",
    "\n",
    "As we did in the [linear regression notebook](https://nbviewer.jupyter.org/github/jennselby/MachineLearningCourseNotes/blob/master/assets/ipynb/LinearRegression.ipynb), we will be generating some fake data.\n",
    "\n",
    "In this fake dataset, we have two types of plants.\n",
    "* Plant A tends to be taller (average 60cm) and thinner (average 8cm).\n",
    "* Plant B tends to be shorter (average 58cm) and wider (average 10cm).\n",
    "* The heights and diameters of both plants are normally distributed (they follow a bell curve).\n",
    "\n",
    "* Class 0 will represent Plant A and Class 1 will represent Plant B"
   ]
  },
  {
   "cell_type": "code",
   "execution_count": 3,
   "metadata": {},
   "outputs": [],
   "source": [
    "NUM_INPUTS = 50 # inputs per class\n",
    "PLANT_A_AVG_HEIGHT = 59.0\n",
    "PLANT_A_AVG_WIDTH = 9.0\n",
    "PLANT_B_AVG_HEIGHT = 58.0\n",
    "PLANT_B_AVG_WIDTH = 10.0\n",
    "\n",
    "# Pick numbers randomly with a normal distribution centered around the averages\n",
    "\n",
    "plant_a_heights = numpy.random.normal(loc=PLANT_A_AVG_HEIGHT, size=NUM_INPUTS)\n",
    "plant_a_widths = numpy.random.normal(loc=PLANT_A_AVG_WIDTH, size=NUM_INPUTS)\n",
    "\n",
    "plant_b_heights = numpy.random.normal(loc=PLANT_B_AVG_HEIGHT, size=NUM_INPUTS)\n",
    "plant_b_widths = numpy.random.normal(loc=PLANT_B_AVG_WIDTH, size=NUM_INPUTS)\n",
    "\n",
    "# this creates a 2-dimensional matrix, with heights in the first column and widths in the second\n",
    "# the first half of rows are all plants of type a and the second half are type b\n",
    "plant_inputs = list(zip(numpy.append(plant_a_heights, plant_b_heights),\n",
    "                        numpy.append(plant_a_widths, plant_b_widths)))\n",
    "\n",
    "# this is a list where the first half are 0s (representing plants of type a) and the second half are 1s (type b)\n",
    "classes = [0]*NUM_INPUTS + [1]*NUM_INPUTS"
   ]
  },
  {
   "cell_type": "markdown",
   "metadata": {},
   "source": [
    "## Visualization\n",
    "\n",
    "Let's visualize our dataset, so that we can better understand what it looks like."
   ]
  },
  {
   "cell_type": "code",
   "execution_count": 4,
   "metadata": {},
   "outputs": [
    {
     "data": {
      "image/png": "[encoded data removed]",
      "text/plain": [
       "<Figure size 432x288 with 1 Axes>"
      ]
     },
     "metadata": {
      "needs_background": "light"
     },
     "output_type": "display_data"
    }
   ],
   "source": [
    "# create a figure and label it\n",
    "fig = matplotlib.pyplot.figure()\n",
    "fig.suptitle('Plant Data Set')\n",
    "matplotlib.pyplot.xlabel('Height')\n",
    "matplotlib.pyplot.ylabel('Width')\n",
    "\n",
    "# put the generated points on the graph\n",
    "a_scatter = matplotlib.pyplot.scatter(plant_a_heights, plant_a_widths, c=\"red\", marker=\"o\", label='plant a')\n",
    "b_scatter = matplotlib.pyplot.scatter(plant_b_heights, plant_b_widths, c=\"blue\", marker=\"^\", label='plant b')\n",
    "\n",
    "# add a legend to explain which points are which\n",
    "matplotlib.pyplot.legend(handles=[a_scatter, b_scatter])\n",
    "\n",
    "# show the graph\n",
    "matplotlib.pyplot.show()"
   ]
  },
  {
   "cell_type": "markdown",
   "metadata": {},
   "source": [
    "## Model Training\n",
    "\n",
    "Next, we want to fit our logistic regression model to our dataset."
   ]
  },
  {
   "cell_type": "code",
   "execution_count": 5,
   "metadata": {},
   "outputs": [
    {
     "name": "stdout",
     "output_type": "stream",
     "text": [
      "Intercept: [61.23295758]  Coefficients: [[-1.21090126  0.99982279]]\n"
     ]
    }
   ],
   "source": [
    "model = linear_model.LogisticRegression()\n",
    "model.fit(plant_inputs, classes)\n",
    "\n",
    "print('Intercept: {0}  Coefficients: {1}'.format(model.intercept_, model.coef_))"
   ]
  },
  {
   "cell_type": "markdown",
   "metadata": {},
   "source": [
    "## Prediction\n",
    "\n",
    "Now we can make some predictions using the trained model. Note that we are generating the new data exactly the same way that we generated the training data above."
   ]
  },
  {
   "cell_type": "code",
   "execution_count": 6,
   "metadata": {},
   "outputs": [
    {
     "name": "stdout",
     "output_type": "stream",
     "text": [
      "[0 0 0 0 0 0 0 1 1 1 1 1 0 1 0 0 0 0 0 1 1 0 0 1 0 0 0 0 0 0 0 0 0 0 1 1 0\n",
      " 0 0 1 0 0 0 1 1 1 0 0 1 0]\n",
      "[1 1 0 1 1 1 1 0 1 1 1 1 1 1 1 1 1 1 1 0 0 1 1 0 1 1 1 0 1 0 1 1 0 1 1 1 1\n",
      " 1 1 0 1 1 1 1 1 1 1 1 1 1]\n",
      "Class predictions: [0 0 0 0 0 0 0 1 1 1 1 1 0 1 0 0 0 0 0 1 1 0 0 1 0 0 0 0 0 0 0 0 0 0 1 1 0\n",
      " 0 0 1 0 0 0 1 1 1 0 0 1 0 1 1 0 1 1 1 1 0 1 1 1 1 1 1 1 1 1 1 1 0 0 1 1 0\n",
      " 1 1 1 0 1 0 1 1 0 1 1 1 1 1 1 0 1 1 1 1 1 1 1 1 1 1]\n",
      "Probabilities:\n",
      "[[0.95245606 0.04754394]\n",
      " [0.52346448 0.47653552]\n",
      " [0.62657755 0.37342245]\n",
      " [0.89530874 0.10469126]\n",
      " [0.96780957 0.03219043]\n",
      " [0.50159052 0.49840948]\n",
      " [0.98181947 0.01818053]\n",
      " [0.1916717  0.8083283 ]\n",
      " [0.27529134 0.72470866]\n",
      " [0.35306395 0.64693605]\n",
      " [0.12892373 0.87107627]\n",
      " [0.28942096 0.71057904]\n",
      " [0.65380702 0.34619298]\n",
      " [0.19448362 0.80551638]\n",
      " [0.508319   0.491681  ]\n",
      " [0.72079265 0.27920735]\n",
      " [0.83690204 0.16309796]\n",
      " [0.63749613 0.36250387]\n",
      " [0.95891959 0.04108041]\n",
      " [0.38954883 0.61045117]\n",
      " [0.17126274 0.82873726]\n",
      " [0.99390423 0.00609577]\n",
      " [0.90423731 0.09576269]\n",
      " [0.27911815 0.72088185]\n",
      " [0.55198659 0.44801341]\n",
      " [0.55666694 0.44333306]\n",
      " [0.78735233 0.21264767]\n",
      " [0.88042915 0.11957085]\n",
      " [0.88237733 0.11762267]\n",
      " [0.96890591 0.03109409]\n",
      " [0.62470014 0.37529986]\n",
      " [0.67820088 0.32179912]\n",
      " [0.81646254 0.18353746]\n",
      " [0.90136109 0.09863891]\n",
      " [0.45194823 0.54805177]\n",
      " [0.10128894 0.89871106]\n",
      " [0.52899395 0.47100605]\n",
      " [0.64588931 0.35411069]\n",
      " [0.68998014 0.31001986]\n",
      " [0.15045887 0.84954113]\n",
      " [0.93829022 0.06170978]\n",
      " [0.89875711 0.10124289]\n",
      " [0.79711049 0.20288951]\n",
      " [0.27552824 0.72447176]\n",
      " [0.10800527 0.89199473]\n",
      " [0.12634709 0.87365291]\n",
      " [0.6815828  0.3184172 ]\n",
      " [0.83080115 0.16919885]\n",
      " [0.38674894 0.61325106]\n",
      " [0.85067461 0.14932539]\n",
      " [0.13706079 0.86293921]\n",
      " [0.28112607 0.71887393]\n",
      " [0.57706646 0.42293354]\n",
      " [0.19625974 0.80374026]\n",
      " [0.13729065 0.86270935]\n",
      " [0.03039703 0.96960297]\n",
      " [0.20753159 0.79246841]\n",
      " [0.62753562 0.37246438]\n",
      " [0.47730528 0.52269472]\n",
      " [0.27292945 0.72707055]\n",
      " [0.21357024 0.78642976]\n",
      " [0.10222108 0.89777892]\n",
      " [0.34026372 0.65973628]\n",
      " [0.40668461 0.59331539]\n",
      " [0.186691   0.813309  ]\n",
      " [0.36111542 0.63888458]\n",
      " [0.34906439 0.65093561]\n",
      " [0.31492478 0.68507522]\n",
      " [0.40654846 0.59345154]\n",
      " [0.58902423 0.41097577]\n",
      " [0.5528489  0.4471511 ]\n",
      " [0.02417206 0.97582794]\n",
      " [0.44721326 0.55278674]\n",
      " [0.5480267  0.4519733 ]\n",
      " [0.4612587  0.5387413 ]\n",
      " [0.21203195 0.78796805]\n",
      " [0.08978901 0.91021099]\n",
      " [0.77131324 0.22868676]\n",
      " [0.08020647 0.91979353]\n",
      " [0.72090078 0.27909922]\n",
      " [0.30598168 0.69401832]\n",
      " [0.0403456  0.9596544 ]\n",
      " [0.94800874 0.05199126]\n",
      " [0.12289862 0.87710138]\n",
      " [0.10806767 0.89193233]\n",
      " [0.13747674 0.86252326]\n",
      " [0.19986    0.80014   ]\n",
      " [0.30107617 0.69892383]\n",
      " [0.45960001 0.54039999]\n",
      " [0.85546484 0.14453516]\n",
      " [0.20011228 0.79988772]\n",
      " [0.18043951 0.81956049]\n",
      " [0.13849531 0.86150469]\n",
      " [0.03207212 0.96792788]\n",
      " [0.21342211 0.78657789]\n",
      " [0.49439354 0.50560646]\n",
      " [0.16910146 0.83089854]\n",
      " [0.09736253 0.90263747]\n",
      " [0.15480171 0.84519829]\n",
      " [0.31156536 0.68843464]]\n"
     ]
    }
   ],
   "source": [
    "# Generate some new random values for two plants, one of each class\n",
    "new_a_height = numpy.random.normal(loc=PLANT_A_AVG_HEIGHT, size=50)\n",
    "new_a_width = numpy.random.normal(loc=PLANT_A_AVG_WIDTH, size=50)\n",
    "new_b_height = numpy.random.normal(loc=PLANT_B_AVG_HEIGHT, size=50)\n",
    "new_b_width = numpy.random.normal(loc=PLANT_B_AVG_WIDTH, size=50)\n",
    "\n",
    "# Pull the values into a matrix, because that is what the predict function wants\n",
    "#inputs = [[new_a_height, new_a_width], [new_b_height, new_b_width]]\n",
    "inputs = list(zip(numpy.append(new_a_height, new_b_height), numpy.append(new_a_width, new_b_width)))\n",
    "\n",
    "# Print out the outputs for these new inputs\n",
    "#print('Plant A: {0} {1}'.format(new_a_height, new_a_width))\n",
    "#print('Plant B: {0} {1}'.format(new_b_height, new_b_width))\n",
    "prediction = model.predict(inputs)\n",
    "print(prediction[:50])\n",
    "print(prediction[50:])\n",
    "print('Class predictions: {0}'.format(prediction)) # guess which class\n",
    "print('Probabilities:\\n{0}'.format(model.predict_proba(inputs))) # give probability of each class"
   ]
  },
  {
   "cell_type": "markdown",
   "metadata": {},
   "source": [
    "# Exercise Option #1 - Standard Difficulty\n",
    "\n",
    "Answer the following questions. You can also use the graph below, if seeing the data visually helps you understand the data.\n",
    "1. What should we be expecting as the output for class predictions in the above cell? If the model is not giving the expected output, what are some of the reasons it might not be?\n",
    "1. How do the probabilities output by the above cell relate to the class predictions? Why do you think the model might be more or less confident in its predictions?\n",
    "1. If you change the averages in the data generation code (like PLANT_A_AVG_HEIGHT) and re-run the code, how do the predictions change, and why?\n",
    "1. Looking at the intercept and coefficient output further above, if a coefficient is negative, what has the model learned about this feature? In other words, if you took a datapoint and you increased the value of a feature that has a negative coefficient, what would you expect to happen to the probabilities the model gives this datapoint?"
   ]
  },
  {
   "cell_type": "markdown",
   "metadata": {},
   "source": [
    "1. 0, 1. Most likely it is because one or more of the characteristics of the plant are beyond the cutoff that the model sets, so it is considered to be in the other class. For example one time I saw that the plant B had a height of 59.8 and plant A had 59, which are both totally reasonable values, but impossible for the model to distinguish between.\n",
    "2. The probability which is higher determines how the model will classify a given point. It is less confident the closer a point is to the cutoff because on that line, the probabilities are 50 50.\n",
    "3. (I changed the cell above so it creates 100 data points, and is split down the middle so it is easier to count) Before changing the averages, I noticed that the model was 4% wrong. After changing the plant A average height to 62, the model was 2% wrong. When I changed plant A average height to 59, the model was 6% wrong. Lastly, when I change the plant A average height to 59 and plant A average width to 9, we had an error rate of 16%. This shows that the closer the averages of the classes are, the higher the error rate will be.\n",
    "4. A negative coefficient means the model finds the parameter is inversely correlated with a certain class, so the higher that parameter is, the lower the probability it will be in that class. In this case, the first coefficient is negative, meaning the model thinks that bigger height (the first parameter) will mean a data point is less likely to be in class B, which the model is classifying for (as it is a 1)."
   ]
  },
  {
   "cell_type": "markdown",
   "metadata": {},
   "source": [
    "# Exercise Option #2 - Advanced Difficulty\n",
    "\n",
    "The plot above is only showing the data, and not anything about what the model learned. Come up with some ideas for how to show the model fit and implement one of them in code. Remember, we are here to help if you are not sure how to write the code for your ideas!"
   ]
  },
  {
   "cell_type": "code",
   "execution_count": 7,
   "metadata": {},
   "outputs": [],
   "source": [
    "MIN_X = 55\n",
    "MAX_X = 63\n",
    "MIN_Y = 5\n",
    "MAX_Y = 13"
   ]
  },
  {
   "cell_type": "code",
   "execution_count": 8,
   "metadata": {},
   "outputs": [],
   "source": [
    "def plot_areas_of_guess(model, xa, ya, xb, yb):\n",
    "    fig = matplotlib.pyplot.figure()\n",
    "    fig.suptitle('Plant Data Set')\n",
    "    matplotlib.pyplot.xlabel('Height')\n",
    "    matplotlib.pyplot.ylabel('Width')\n",
    "    \n",
    "    #x = numpy.linspace(MIN_X, MAX_X)\n",
    "    #y = numpy.linspace(MIN_Y, MAX_Y)\n",
    "    #xp, yp = numpy.meshgrid(x, y) https://numpy.org/doc/stable/reference/generated/numpy.meshgrid.html\n",
    "    xp, yp = numpy.mgrid[MIN_X:MAX_X:100j, MIN_Y:MAX_Y:100j]  # mgrid is like 2d linspace; https://stackoverflow.com/questions/32208359/is-there-a-multi-dimensional-version-of-arange-linspace-in-numpy\n",
    "    xp = xp.flatten(order='F')\n",
    "    yp = yp.flatten(order='F')\n",
    "    \n",
    "    predictions = model.predict(list(zip(xp, yp)))  # do the prediction for each point in the mgrid\n",
    "    \n",
    "    xap = xp[predictions==0]  # separate the a and b predictions\n",
    "    yap = yp[predictions==0]\n",
    "    xbp = xp[predictions==1]\n",
    "    ybp = yp[predictions==1]\n",
    "    \n",
    "    matplotlib.pyplot.plot(xap, yap, c=\"pink\", zorder=1)  # allow comparison to actual a and b class points\n",
    "    matplotlib.pyplot.plot(xbp, ybp, c=\"turquoise\", zorder=1)\n",
    "    \n",
    "    a_scatter = matplotlib.pyplot.scatter(xa, ya, c=\"red\", marker=\"o\", label='a', zorder=2)  # zorder brings it to front\n",
    "    b_scatter = matplotlib.pyplot.scatter(xb, yb, c=\"blue\", marker=\"^\", label='b', zorder=2)\n",
    "\n",
    "    matplotlib.pyplot.legend(handles=[a_scatter, b_scatter])\n",
    "\n",
    "    matplotlib.pyplot.show()"
   ]
  },
  {
   "cell_type": "code",
   "execution_count": 57,
   "metadata": {},
   "outputs": [
    {
     "data": {
      "image/png": "[encoded data removed]",
      "text/plain": [
       "<Figure size 432x288 with 1 Axes>"
      ]
     },
     "metadata": {
      "needs_background": "light"
     },
     "output_type": "display_data"
    }
   ],
   "source": [
    "plot_areas_of_guess(model, plant_a_heights, plant_a_widths, plant_b_heights, plant_b_widths)"
   ]
  },
  {
   "cell_type": "markdown",
   "metadata": {},
   "source": [
    "This shows very clearly how the model determines how to classify whether a point is in class a or b: based on what area of the 2d space a point lies"
   ]
  },
  {
   "cell_type": "markdown",
   "metadata": {},
   "source": [
    "## ROC Curve"
   ]
  },
  {
   "cell_type": "code",
   "execution_count": 9,
   "metadata": {},
   "outputs": [
    {
     "data": {
      "image/png": "[encoded data removed]",
      "text/plain": [
       "<Figure size 432x288 with 1 Axes>"
      ]
     },
     "metadata": {
      "needs_background": "light"
     },
     "output_type": "display_data"
    }
   ],
   "source": [
    "import matplotlib.pyplot as plt\n",
    "from sklearn import datasets, metrics, model_selection, svm\n",
    "X, y = plant_inputs, classes\n",
    "X_train, X_test, y_train, y_test = model_selection.train_test_split(            X, y, random_state=0)\n",
    "roc_model = linear_model.LogisticRegression()\n",
    "roc_model.fit(X_train, y_train)\n",
    "X_train, X_test, y_train, y_test = model_selection.train_test_split(            X, y, random_state=0)\n",
    "metrics.plot_roc_curve(roc_model, X_test, y_test)  # doctest: +SKIP\n",
    "plt.show()"
   ]
  },
  {
   "cell_type": "code",
   "execution_count": null,
   "metadata": {},
   "outputs": [],
   "source": [
    "The area under the curve is 0.92, meaning 92% of the time, the model classifies correct"
   ]
  },
  {
   "cell_type": "markdown",
   "metadata": {},
   "source": [
    "# Exercise Option #3 - Advanced Difficulty\n",
    "\n",
    "If you have more than two classes, you can use multinomial logistic regression or the one vs. rest technique, where you use a binomial logistic regression for each class that you have and decide if it is or is not in that class. Try expanding the program with a third type and implementing your own one vs. rest models. To test if this is working, compare your output to running your expanded dataset through scikit-learn, which will automatically do one vs. rest if there are more than two classes."
   ]
  },
  {
   "cell_type": "code",
   "execution_count": null,
   "metadata": {},
   "outputs": [],
   "source": []
  }
 ],
 "metadata": {
  "kernelspec": {
   "display_name": "Python 3",
   "language": "python",
   "name": "python3"
  },
  "language_info": {
   "codemirror_mode": {
    "name": "ipython",
    "version": 3
   },
   "file_extension": ".py",
   "mimetype": "text/x-python",
   "name": "python",
   "nbconvert_exporter": "python",
   "pygments_lexer": "ipython3",
   "version": "3.8.5"
  }
 },
 "nbformat": 4,
 "nbformat_minor": 2
}
