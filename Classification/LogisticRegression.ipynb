{
 "cells": [
  {
   "cell_type": "markdown",
   "metadata": {},
   "source": [
    "# Logistic Regression with Synthetic Data\n",
    "\n",
    "For more explanation of logistic regression, see\n",
    "1. [Our course notes](https://jennselby.github.io/MachineLearningCourseNotes/#binomial-logistic-regression)\n",
    "1. [This scikit-learn explanation](http://scikit-learn.org/stable/modules/linear_model.html#logistic-regression)\n",
    "1. [The full scikit-learn documentation of the LogisticRegression model class](http://scikit-learn.org/stable/modules/generated/sklearn.linear_model.LogisticRegression.html)\n",
    "\n",
    "## Instructions\n",
    "0. If you haven't already, follow [the setup instructions here](https://jennselby.github.io/MachineLearningCourseNotes/#setting-up-python3) to get all necessary software installed.\n",
    "0. Read through the code in the following sections:\n",
    "  * [Data Generation](#Data-Generation)\n",
    "  * [Visualization](#Visualization)\n",
    "  * [Model Training](#Model-Training)\n",
    "  * [Prediction](#Prediction)\n",
    "0. Complete at least one of the exercise options:\n",
    "  * [Exercise Option #1 - Standard Difficulty](#Exercise-Option-#1---Standard-Difficulty)\n",
    "  * [Exercise Option #2 - Advanced Difficulty](#Exercise-Option-#2---Advanced-Difficulty)\n",
    "  * [Exercise Option #3 - Advanced Difficulty](#Exercise-Option-#3---Advanced-Difficulty)"
   ]
  },
  {
   "cell_type": "code",
   "execution_count": 2,
   "metadata": {},
   "outputs": [],
   "source": [
    "import numpy.random # for generating our dataset\n",
    "from sklearn import linear_model # for fitting our model\n",
    "\n",
    "# force numpy not to use scientific notation, to make it easier to read the numbers the program prints out\n",
    "numpy.set_printoptions(suppress=True)\n",
    "\n",
    "# to display graphs in this notebook\n",
    "%matplotlib inline\n",
    "import matplotlib.pyplot"
   ]
  },
  {
   "cell_type": "markdown",
   "metadata": {},
   "source": [
    "## Data Generation\n",
    "\n",
    "As we did in the [linear regression notebook](https://nbviewer.jupyter.org/github/jennselby/MachineLearningCourseNotes/blob/master/assets/ipynb/LinearRegression.ipynb), we will be generating some fake data.\n",
    "\n",
    "In this fake dataset, we have two types of plants.\n",
    "* Plant A tends to be taller (average 60cm) and thinner (average 8cm).\n",
    "* Plant B tends to be shorter (average 58cm) and wider (average 10cm).\n",
    "* The heights and diameters of both plants are normally distributed (they follow a bell curve).\n",
    "\n",
    "* Class 0 will represent Plant A and Class 1 will represent Plant B"
   ]
  },
  {
   "cell_type": "code",
   "execution_count": 16,
   "metadata": {},
   "outputs": [],
   "source": [
    "NUM_INPUTS = 50 # inputs per class\n",
    "PLANT_A_AVG_HEIGHT = 60.0\n",
    "PLANT_A_AVG_WIDTH = 8.0\n",
    "PLANT_B_AVG_HEIGHT = 58.0\n",
    "PLANT_B_AVG_WIDTH = 10.0\n",
    "\n",
    "# Pick numbers randomly with a normal distribution centered around the averages\n",
    "\n",
    "plant_a_heights = numpy.random.normal(loc=PLANT_A_AVG_HEIGHT, size=NUM_INPUTS)\n",
    "plant_a_widths = numpy.random.normal(loc=PLANT_A_AVG_WIDTH, size=NUM_INPUTS)\n",
    "\n",
    "plant_b_heights = numpy.random.normal(loc=PLANT_B_AVG_HEIGHT, size=NUM_INPUTS)\n",
    "plant_b_widths = numpy.random.normal(loc=PLANT_B_AVG_WIDTH, size=NUM_INPUTS)\n",
    "\n",
    "# this creates a 2-dimensional matrix, with heights in the first column and widths in the second\n",
    "# the first half of rows are all plants of type a and the second half are type b\n",
    "plant_inputs = list(zip(numpy.append(plant_a_heights, plant_b_heights),\n",
    "                        numpy.append(plant_a_widths, plant_b_widths)))\n",
    "\n",
    "# this is a list where the first half are 0s (representing plants of type a) and the second half are 1s (type b)\n",
    "classes = [0]*NUM_INPUTS + [1]*NUM_INPUTS"
   ]
  },
  {
   "cell_type": "markdown",
   "metadata": {},
   "source": [
    "## Visualization\n",
    "\n",
    "Let's visualize our dataset, so that we can better understand what it looks like."
   ]
  },
  {
   "cell_type": "code",
   "execution_count": 17,
   "metadata": {},
   "outputs": [
    {
     "data": {
      "image/png": "[encoded data removed]",
      "text/plain": [
       "<Figure size 432x288 with 1 Axes>"
      ]
     },
     "metadata": {
      "needs_background": "light"
     },
     "output_type": "display_data"
    }
   ],
   "source": [
    "# create a figure and label it\n",
    "fig = matplotlib.pyplot.figure()\n",
    "fig.suptitle('Plant Data Set')\n",
    "matplotlib.pyplot.xlabel('Height')\n",
    "matplotlib.pyplot.ylabel('Width')\n",
    "\n",
    "# put the generated points on the graph\n",
    "a_scatter = matplotlib.pyplot.scatter(plant_a_heights, plant_a_widths, c=\"red\", marker=\"o\", label='plant a')\n",
    "b_scatter = matplotlib.pyplot.scatter(plant_b_heights, plant_b_widths, c=\"blue\", marker=\"^\", label='plant b')\n",
    "\n",
    "# add a legend to explain which points are which\n",
    "matplotlib.pyplot.legend(handles=[a_scatter, b_scatter])\n",
    "\n",
    "# show the graph\n",
    "matplotlib.pyplot.show()"
   ]
  },
  {
   "cell_type": "markdown",
   "metadata": {},
   "source": [
    "## Model Training\n",
    "\n",
    "Next, we want to fit our logistic regression model to our dataset."
   ]
  },
  {
   "cell_type": "code",
   "execution_count": 18,
   "metadata": {},
   "outputs": [
    {
     "name": "stdout",
     "output_type": "stream",
     "text": [
      "Intercept: [70.09097065]  Coefficients: [[-1.48389009  1.98325705]]\n"
     ]
    }
   ],
   "source": [
    "model = linear_model.LogisticRegression()\n",
    "model.fit(plant_inputs, classes)\n",
    "\n",
    "print('Intercept: {0}  Coefficients: {1}'.format(model.intercept_, model.coef_))"
   ]
  },
  {
   "cell_type": "markdown",
   "metadata": {},
   "source": [
    "## Prediction\n",
    "\n",
    "Now we can make some predictions using the trained model. Note that we are generating the new data exactly the same way that we generated the training data above."
   ]
  },
  {
   "cell_type": "code",
   "execution_count": 19,
   "metadata": {},
   "outputs": [
    {
     "name": "stdout",
     "output_type": "stream",
     "text": [
      "[1 0 0 0 1 0 0 0 0 0 0 0 0 1 0 0 0 0 0 1 0 0 0 0 0 0 0 0 0 1 1 1 1 0 0 0 0\n",
      " 0 0 0 0 0 0 0 0 0 0 0 0 0]\n",
      "[1 1 1 1 1 1 1 1 1 1 1 1 1 1 1 1 1 1 1 1 1 1 1 0 1 1 1 1 1 1 1 1 1 1 1 1 1\n",
      " 1 1 1 1 1 1 1 1 0 0 0 1 1]\n",
      "Class predictions: [1 0 0 0 1 0 0 0 0 0 0 0 0 1 0 0 0 0 0 1 0 0 0 0 0 0 0 0 0 1 1 1 1 0 0 0 0\n",
      " 0 0 0 0 0 0 0 0 0 0 0 0 0 1 1 1 1 1 1 1 1 1 1 1 1 1 1 1 1 1 1 1 1 1 1 1 0\n",
      " 1 1 1 1 1 1 1 1 1 1 1 1 1 1 1 1 1 1 1 1 1 0 0 0 1 1]\n",
      "Probabilities:\n",
      "[[0.49210601 0.50789399]\n",
      " [0.97817052 0.02182948]\n",
      " [0.9711003  0.0288997 ]\n",
      " [0.94347973 0.05652027]\n",
      " [0.43988859 0.56011141]\n",
      " [0.99204523 0.00795477]\n",
      " [0.88923405 0.11076595]\n",
      " [0.96274145 0.03725855]\n",
      " [0.99316327 0.00683673]\n",
      " [0.87560909 0.12439091]\n",
      " [0.64050495 0.35949505]\n",
      " [0.99833778 0.00166222]\n",
      " [0.99192976 0.00807024]\n",
      " [0.24767648 0.75232352]\n",
      " [0.99671279 0.00328721]\n",
      " [0.98599776 0.01400224]\n",
      " [0.89945397 0.10054603]\n",
      " [0.99880034 0.00119966]\n",
      " [0.9830398  0.0169602 ]\n",
      " [0.36858031 0.63141969]\n",
      " [0.99796988 0.00203012]\n",
      " [0.50812508 0.49187492]\n",
      " [0.78580551 0.21419449]\n",
      " [0.97176706 0.02823294]\n",
      " [0.99226185 0.00773815]\n",
      " [0.93079777 0.06920223]\n",
      " [0.99042429 0.00957571]\n",
      " [0.9756273  0.0243727 ]\n",
      " [0.9901433  0.0098567 ]\n",
      " [0.1297103  0.8702897 ]\n",
      " [0.29379572 0.70620428]\n",
      " [0.29819234 0.70180766]\n",
      " [0.30549746 0.69450254]\n",
      " [0.60183553 0.39816447]\n",
      " [0.98659216 0.01340784]\n",
      " [0.99490697 0.00509303]\n",
      " [0.87914254 0.12085746]\n",
      " [0.97215713 0.02784287]\n",
      " [0.89012449 0.10987551]\n",
      " [0.99697356 0.00302644]\n",
      " [0.87474632 0.12525368]\n",
      " [0.99084562 0.00915438]\n",
      " [0.99459656 0.00540344]\n",
      " [0.98745524 0.01254476]\n",
      " [0.98077632 0.01922368]\n",
      " [0.99449074 0.00550926]\n",
      " [0.75222277 0.24777723]\n",
      " [0.83181043 0.16818957]\n",
      " [0.98134931 0.01865069]\n",
      " [0.94069341 0.05930659]\n",
      " [0.04141817 0.95858183]\n",
      " [0.10246694 0.89753306]\n",
      " [0.00009353 0.99990647]\n",
      " [0.00066632 0.99933368]\n",
      " [0.23711671 0.76288329]\n",
      " [0.0254398  0.9745602 ]\n",
      " [0.00002269 0.99997731]\n",
      " [0.00166347 0.99833653]\n",
      " [0.23594655 0.76405345]\n",
      " [0.03015795 0.96984205]\n",
      " [0.00977039 0.99022961]\n",
      " [0.0070678  0.9929322 ]\n",
      " [0.00369489 0.99630511]\n",
      " [0.0002935  0.9997065 ]\n",
      " [0.0772881  0.9227119 ]\n",
      " [0.00615504 0.99384496]\n",
      " [0.11471503 0.88528497]\n",
      " [0.00029177 0.99970823]\n",
      " [0.00151488 0.99848512]\n",
      " [0.03334421 0.96665579]\n",
      " [0.00278406 0.99721594]\n",
      " [0.01253653 0.98746347]\n",
      " [0.00183538 0.99816462]\n",
      " [0.66569931 0.33430069]\n",
      " [0.00025933 0.99974067]\n",
      " [0.00012698 0.99987302]\n",
      " [0.09465848 0.90534152]\n",
      " [0.00166873 0.99833127]\n",
      " [0.0023752  0.9976248 ]\n",
      " [0.02853205 0.97146795]\n",
      " [0.07121525 0.92878475]\n",
      " [0.04675673 0.95324327]\n",
      " [0.00681713 0.99318287]\n",
      " [0.01705408 0.98294592]\n",
      " [0.00363138 0.99636862]\n",
      " [0.10410533 0.89589467]\n",
      " [0.00652913 0.99347087]\n",
      " [0.06242374 0.93757626]\n",
      " [0.00003486 0.99996514]\n",
      " [0.00025263 0.99974737]\n",
      " [0.04159516 0.95840484]\n",
      " [0.21801329 0.78198671]\n",
      " [0.01140496 0.98859504]\n",
      " [0.00960667 0.99039333]\n",
      " [0.00083828 0.99916172]\n",
      " [0.87908237 0.12091763]\n",
      " [0.70214863 0.29785137]\n",
      " [0.52640367 0.47359633]\n",
      " [0.01084232 0.98915768]\n",
      " [0.18041185 0.81958815]]\n"
     ]
    }
   ],
   "source": [
    "# Generate some new random values for two plants, one of each class\n",
    "new_a_height = numpy.random.normal(loc=PLANT_A_AVG_HEIGHT, size=50)\n",
    "new_a_width = numpy.random.normal(loc=PLANT_A_AVG_WIDTH, size=50)\n",
    "new_b_height = numpy.random.normal(loc=PLANT_B_AVG_HEIGHT, size=50)\n",
    "new_b_width = numpy.random.normal(loc=PLANT_B_AVG_WIDTH, size=50)\n",
    "\n",
    "# Pull the values into a matrix, because that is what the predict function wants\n",
    "#inputs = [[new_a_height, new_a_width], [new_b_height, new_b_width]]\n",
    "inputs = list(zip(numpy.append(new_a_height, new_b_height), numpy.append(new_a_width, new_b_width)))\n",
    "\n",
    "# Print out the outputs for these new inputs\n",
    "#print('Plant A: {0} {1}'.format(new_a_height, new_a_width))\n",
    "#print('Plant B: {0} {1}'.format(new_b_height, new_b_width))\n",
    "prediction = model.predict(inputs)\n",
    "print(prediction[:50])\n",
    "print(prediction[50:])\n",
    "print('Class predictions: {0}'.format(prediction)) # guess which class\n",
    "print('Probabilities:\\n{0}'.format(model.predict_proba(inputs))) # give probability of each class"
   ]
  },
  {
   "cell_type": "markdown",
   "metadata": {},
   "source": [
    "# Exercise Option #1 - Standard Difficulty\n",
    "\n",
    "Answer the following questions. You can also use the graph below, if seeing the data visually helps you understand the data.\n",
    "1. What should we be expecting as the output for class predictions in the above cell? If the model is not giving the expected output, what are some of the reasons it might not be?\n",
    "1. How do the probabilities output by the above cell relate to the class predictions? Why do you think the model might be more or less confident in its predictions?\n",
    "1. If you change the averages in the data generation code (like PLANT_A_AVG_HEIGHT) and re-run the code, how do the predictions change, and why?\n",
    "1. Looking at the intercept and coefficient output further above, if a coefficient is negative, what has the model learned about this feature? In other words, if you took a datapoint and you increased the value of a feature that has a negative coefficient, what would you expect to happen to the probabilities the model gives this datapoint?"
   ]
  },
  {
   "cell_type": "markdown",
   "metadata": {},
   "source": [
    "1. Some number below 0.5, and some number above 0.5. The first signifies that the model believes it is in class A, and the second that it is in class B. Most likely it is because one or more of the characteristics of the plant are beyond the cutoff that the model sets, so it is considered to be in the other class. For example one time I saw that the plant B had a height of 59.8 and plant A had 59, which are both totally reasonable values, but impossible for the model to distinguish between.\n",
    "2. The probability which is higher determines how the model will classify a given point. It is less confident the closer a point is to the cutoff because on that line, the probabilities are 50 50.\n",
    "3. (I changed the cell above so it creates 100 data points, and is split down the middle so it is easier to count) Before changing the averages, I noticed that the model was 4% wrong. After changing the plant A average height to 62, the model was 2% wrong. When I changed plant A average height to 59, the model was 6% wrong. Lastly, when I change the plant A average height to 59 and plant A average width to 9, we had an error rate of 16%. This shows that the closer the averages of the classes are, the higher the error rate will be.\n",
    "4. A negative coefficient means the model finds the parameter is inversely correlated with a certain class, so the higher that parameter is, the lower the probability it will be in that class. In this case, the first coefficient is negative, meaning the model thinks that bigger height (the first parameter) will mean a data point is less likely to be in class B, which the model is classifying for (as it is a 1)."
   ]
  },
  {
   "cell_type": "markdown",
   "metadata": {},
   "source": [
    "# Exercise Option #2 - Advanced Difficulty\n",
    "\n",
    "The plot above is only showing the data, and not anything about what the model learned. Come up with some ideas for how to show the model fit and implement one of them in code. Remember, we are here to help if you are not sure how to write the code for your ideas!"
   ]
  },
  {
   "cell_type": "code",
   "execution_count": 20,
   "metadata": {},
   "outputs": [],
   "source": [
    "MIN_X = 55\n",
    "MAX_X = 63\n",
    "MIN_Y = 5\n",
    "MAX_Y = 13"
   ]
  },
  {
   "cell_type": "code",
   "execution_count": 21,
   "metadata": {},
   "outputs": [],
   "source": [
    "def plot_areas_of_guess(model, xa, ya, xb, yb):\n",
    "    fig = matplotlib.pyplot.figure()\n",
    "    fig.suptitle('Plant Data Set')\n",
    "    matplotlib.pyplot.xlabel('Height')\n",
    "    matplotlib.pyplot.ylabel('Width')\n",
    "    \n",
    "    #x = numpy.linspace(MIN_X, MAX_X)\n",
    "    #y = numpy.linspace(MIN_Y, MAX_Y)\n",
    "    #xp, yp = numpy.meshgrid(x, y) https://numpy.org/doc/stable/reference/generated/numpy.meshgrid.html\n",
    "    xp, yp = numpy.mgrid[MIN_X:MAX_X:100j, MIN_Y:MAX_Y:100j]  # mgrid is like 2d linspace; https://stackoverflow.com/questions/32208359/is-there-a-multi-dimensional-version-of-arange-linspace-in-numpy\n",
    "    xp = xp.flatten(order='F')\n",
    "    yp = yp.flatten(order='F')\n",
    "    \n",
    "    predictions = model.predict(list(zip(xp, yp)))  # do the prediction for each point in the mgrid\n",
    "    \n",
    "    xap = xp[predictions==0]  # separate the a and b predictions\n",
    "    yap = yp[predictions==0]\n",
    "    xbp = xp[predictions==1]\n",
    "    ybp = yp[predictions==1]\n",
    "    \n",
    "    matplotlib.pyplot.plot(xap, yap, c=\"pink\", zorder=1)  # allow comparison to actual a and b class points\n",
    "    matplotlib.pyplot.plot(xbp, ybp, c=\"turquoise\", zorder=1)\n",
    "    \n",
    "    a_scatter = matplotlib.pyplot.scatter(xa, ya, c=\"red\", marker=\"o\", label='a', zorder=2)  # zorder brings it to front\n",
    "    b_scatter = matplotlib.pyplot.scatter(xb, yb, c=\"blue\", marker=\"^\", label='b', zorder=2)\n",
    "\n",
    "    matplotlib.pyplot.legend(handles=[a_scatter, b_scatter])\n",
    "\n",
    "    matplotlib.pyplot.show()"
   ]
  },
  {
   "cell_type": "code",
   "execution_count": 22,
   "metadata": {},
   "outputs": [
    {
     "data": {
      "image/png": "[encoded data removed]",
      "text/plain": [
       "<Figure size 432x288 with 1 Axes>"
      ]
     },
     "metadata": {
      "needs_background": "light"
     },
     "output_type": "display_data"
    }
   ],
   "source": [
    "plot_areas_of_guess(model, plant_a_heights, plant_a_widths, plant_b_heights, plant_b_widths)"
   ]
  },
  {
   "cell_type": "markdown",
   "metadata": {},
   "source": [
    "This shows very clearly how the model determines how to classify whether a point is in class a or b: based on what area of the 2d space a point lies. Although there are overlapping points and some outliers, generally a point in the red shaded area with be of the a class, and the point in the blue shaded area will probably be in class b."
   ]
  },
  {
   "cell_type": "markdown",
   "metadata": {},
   "source": [
    "## Validation: ROC Curve"
   ]
  },
  {
   "cell_type": "code",
   "execution_count": 23,
   "metadata": {},
   "outputs": [
    {
     "data": {
      "image/png": "[encoded data removed]",
      "text/plain": [
       "<Figure size 432x288 with 1 Axes>"
      ]
     },
     "metadata": {
      "needs_background": "light"
     },
     "output_type": "display_data"
    }
   ],
   "source": [
    "import matplotlib.pyplot as plt\n",
    "from sklearn import datasets, metrics, model_selection, svm\n",
    "X, y = plant_inputs, classes\n",
    "X_train, X_test, y_train, y_test = model_selection.train_test_split(            X, y, random_state=0)\n",
    "roc_model = linear_model.LogisticRegression()\n",
    "roc_model.fit(X_train, y_train)\n",
    "X_train, X_test, y_train, y_test = model_selection.train_test_split(            X, y, random_state=0)\n",
    "metrics.plot_roc_curve(roc_model, X_test, y_test)\n",
    "plt.show()"
   ]
  },
  {
   "cell_type": "code",
   "execution_count": 24,
   "metadata": {},
   "outputs": [
    {
     "data": {
      "image/png": "[encoded data removed]",
      "text/plain": [
       "<Figure size 432x288 with 1 Axes>"
      ]
     },
     "metadata": {
      "needs_background": "light"
     },
     "output_type": "display_data"
    }
   ],
   "source": [
    "metrics.plot_roc_curve(roc_model, X_train, y_train)\n",
    "plt.show()"
   ]
  },
  {
   "cell_type": "markdown",
   "metadata": {},
   "source": [
    "Assess the performance of the model. What are the best and worst possible scores it could get? Why do you think the model is getting the score you're seeing? How do the scores between the training and testing sets compare?"
   ]
  },
  {
   "cell_type": "markdown",
   "metadata": {},
   "source": [
    "With the original values, the AUC is 0.99. When I changed the plant A average height to 59 and the plant A average width to 9, I ran the test twice and got AUCs of 0.92 and 0.79. With the current model which has an AUC of 0.99, the meaning of this is that given a point from A and from B, the model ranks the probability of the point from A being from A higher than the probability of the point from B being from A 99% of the time. This is called the discrimination. The best possible AUC score would be 1, meaning the model perfectly ranks points from A higher than points from B, and the worst possible score would be 0, meaning it ranks the correct point higher none of the time. I think the model is getting 0.99 because there is little overlap between the points of the classes, so the probability of a wrong point being ranked higher than the correct one is relatively low, i.e. 1%. Oddly enough the score of the training set is lower, but that just means there was more overlap between points of the classes."
   ]
  },
  {
   "cell_type": "markdown",
   "metadata": {},
   "source": [
    "# Exercise Option #3 - Advanced Difficulty\n",
    "\n",
    "If you have more than two classes, you can use multinomial logistic regression or the one vs. rest technique, where you use a binomial logistic regression for each class that you have and decide if it is or is not in that class. Try expanding the program with a third type and implementing your own one vs. rest models. To test if this is working, compare your output to running your expanded dataset through scikit-learn, which will automatically do one vs. rest if there are more than two classes."
   ]
  },
  {
   "cell_type": "code",
   "execution_count": null,
   "metadata": {},
   "outputs": [],
   "source": []
  }
 ],
 "metadata": {
  "kernelspec": {
   "display_name": "Python 3",
   "language": "python",
   "name": "python3"
  },
  "language_info": {
   "codemirror_mode": {
    "name": "ipython",
    "version": 3
   },
   "file_extension": ".py",
   "mimetype": "text/x-python",
   "name": "python",
   "nbconvert_exporter": "python",
   "pygments_lexer": "ipython3",
   "version": "3.8.5"
  }
 },
 "nbformat": 4,
 "nbformat_minor": 2
}
